{
 "cells": [
  {
   "cell_type": "code",
   "id": "initial_id",
   "metadata": {
    "collapsed": true,
    "ExecuteTime": {
     "end_time": "2025-02-27T13:34:45.479510Z",
     "start_time": "2025-02-27T13:34:45.208730Z"
    }
   },
   "source": [
    "import stores\n",
    "import numpy as np\n",
    "from pympler import asizeof \n",
    "\n",
    "from performance_helper import performance_gen, performance_gen_leveled"
   ],
   "outputs": [],
   "execution_count": 1
  },
  {
   "metadata": {
    "ExecuteTime": {
     "end_time": "2025-02-27T13:44:02.919562Z",
     "start_time": "2025-02-27T13:34:45.490824Z"
    }
   },
   "cell_type": "code",
   "source": [
    "with open('tsne_transform/transformation_data/random_5d_scikit.npy', 'rb') as f:\n",
    "     embedding = np.load(f)\n",
    "     df = np.load(f)\n",
    "result_store, result_store_enc, query_store, leveled_stores = stores.stores_gen_parallel(org_data=df, tsne_red=embedding, div_qrs=400, gran_ris=2, leveled_gen=True, leveldParams=[100, 10])"
   ],
   "id": "789298cd17b76224",
   "outputs": [
    {
     "name": "stdout",
     "output_type": "stream",
     "text": [
      "All tasks completed\n",
      "Time to create stores:  276.73048639297485\n",
      "Tsne processing\n",
      "Tsne processing Done\n",
      "Tsne processing time:  265.9561092853546\n",
      "All tasks completed\n",
      "Time to create stores:  14.319000959396362\n",
      "Result Store level1 Done\n",
      "Time to create leveled stores:  280.2935619354248\n"
     ]
    }
   ],
   "execution_count": 2
  },
  {
   "metadata": {
    "ExecuteTime": {
     "end_time": "2025-02-27T13:44:03.696946Z",
     "start_time": "2025-02-27T13:44:03.079729Z"
    }
   },
   "cell_type": "code",
   "source": [
    "print(\"#Stats about result stores\")\n",
    "store_lens = []\n",
    "max_size = 1\n",
    "min_size = 1000000000\n",
    "for s in result_store:\n",
    "    store_lens.append(result_store[s].shape[0])\n",
    "    max_size = max(max_size, result_store[s].shape[0])\n",
    "    min_size = min(min_size, result_store[s].shape[0])\n",
    "# print(sum(store_lens))\n",
    "# print(len(store_lens))\n",
    "print(\"Avg result store entry size: \",sum(store_lens)/len(store_lens))\n",
    "print(\"Max: \", max_size)\n",
    "print(\"Min: \", min_size)\n",
    "print(\"Size of cloud storage\",asizeof.asizeof(result_store_enc))\n",
    "\n",
    "print(\"\\n\\n#Stats about leveled result stores\")\n",
    "store_lens = []\n",
    "max_size = 1\n",
    "min_size = 1000000000\n",
    "for s in leveled_stores[0]:\n",
    "    store_lens.append(leveled_stores[0][s].shape[0])\n",
    "    max_size = max(max_size, leveled_stores[0][s].shape[0])\n",
    "    min_size = min(min_size, leveled_stores[0][s].shape[0])\n",
    "# print(sum(store_lens))\n",
    "# print(len(store_lens))\n",
    "print(\"Avg result store entry size: \",sum(store_lens)/len(store_lens))\n",
    "print(\"Max: \", max_size)\n",
    "print(\"Min: \", min_size)\n",
    "print(\"Size of leveled cloud storage\",asizeof.asizeof(leveled_stores[0]))"
   ],
   "id": "5723733d7b60f566",
   "outputs": [
    {
     "name": "stdout",
     "output_type": "stream",
     "text": [
      "#Stats about result stores\n",
      "Avg result store entry size:  520.946172177285\n",
      "Max:  1002\n",
      "Min:  4\n",
      "Size of cloud storage 2484679664\n",
      "\n",
      "\n",
      "#Stats about leveled result stores\n",
      "Avg result store entry size:  643.8017859558923\n",
      "Max:  996\n",
      "Min:  148\n",
      "Size of leveled cloud storage 268594960\n"
     ]
    }
   ],
   "execution_count": 3
  },
  {
   "metadata": {
    "ExecuteTime": {
     "end_time": "2025-02-27T13:45:13.907868Z",
     "start_time": "2025-02-27T13:44:03.778379Z"
    }
   },
   "cell_type": "code",
   "source": [
    "# sANN execution\n",
    "oars50, recalls50, flags, recalls5, recalls10, recalls20, recalls30, recalls40, oars5, oars10, oars20, oars30, oars40, result_sizes, query_sizes = performance_gen(df, query_store, result_store, result_store_enc, isEnc=True)"
   ],
   "id": "57c1013258472929",
   "outputs": [
    {
     "name": "stdout",
     "output_type": "stream",
     "text": [
      "All Tasks done\n"
     ]
    }
   ],
   "execution_count": 4
  },
  {
   "metadata": {
    "ExecuteTime": {
     "end_time": "2025-02-27T13:45:14.001056Z",
     "start_time": "2025-02-27T13:45:13.991493Z"
    }
   },
   "cell_type": "code",
   "source": [
    "print(\"###Printing for result sizes###\")\n",
    "print(sum(result_sizes), np.average(result_sizes), np.sum(result_sizes))\n",
    "indices = np.where(np.array(flags) == True)[0]\n",
    "print(sum(result_sizes[i] for i in indices) / len(indices), sum(result_sizes[i] for i in indices) / len(indices) ,len(indices))\n",
    "\n",
    "print(\"\\n\\n###Printing for result sizes###\")\n",
    "print(sum(query_sizes), np.average(query_sizes), np.sum(query_sizes),max(query_sizes),min(query_sizes))\n",
    "indices = np.where(np.array(flags) == True)[0]\n",
    "print(sum(query_sizes[i] for i in indices) / len(indices), sum(query_sizes[i] for i in indices) / len(indices), max(result_sizes[i] for i in indices),min(result_sizes[i] for i in indices) ,len(indices))\n",
    "\n",
    "print(\"\\n\\n###Printing for 5###\")\n",
    "print(sum(recalls5), np.average(oars5), np.sum(flags))\n",
    "indices = np.where(np.array(flags) == True)[0]\n",
    "print(sum(recalls5[i] for i in indices) / len(indices), sum(oars5[i] for i in indices) / len(indices), len(indices))\n",
    "\n",
    "print(\"\\n\\n###Printing for 10###\")\n",
    "print(sum(recalls10), np.average(oars10), np.sum(flags))\n",
    "indices = np.where(np.array(flags) == True)[0]\n",
    "print(sum(recalls10[i] for i in indices) / len(indices), sum(oars10[i] for i in indices) / len(indices), len(indices))\n",
    "\n",
    "print(\"\\n\\n###Printing for 20###\")\n",
    "print(sum(recalls20), np.average(oars20), np.sum(flags))\n",
    "indices = np.where(np.array(flags) == True)[0]\n",
    "print(sum(recalls20[i] for i in indices) / len(indices), sum(oars20[i] for i in indices) / len(indices), len(indices))\n",
    "\n",
    "print(\"\\n\\n###Printing for 30###\")\n",
    "print(sum(recalls30), np.average(oars30), np.sum(flags))\n",
    "indices = np.where(np.array(flags) == True)[0]\n",
    "print(sum(recalls30[i] for i in indices) / len(indices), sum(oars30[i] for i in indices) / len(indices), len(indices))\n",
    "\n",
    "print(\"\\n\\n###Printing for 40###\")\n",
    "print(sum(recalls40), np.average(oars40), np.sum(flags))\n",
    "indices = np.where(np.array(flags) == True)[0]\n",
    "print(sum(recalls40[i] for i in indices) / len(indices), sum(oars40[i] for i in indices) / len(indices), len(indices))\n",
    "\n",
    "print(\"\\n\\n###Printing for 50###\")\n",
    "print(sum(recalls50), np.average(oars50), np.sum(flags))\n",
    "indices = np.where(np.array(flags) == True)[0]\n",
    "print(sum(recalls50[i] for i in indices) / len(indices), sum(oars50[i] for i in indices) / len(indices), len(indices))"
   ],
   "id": "1ebc9380e5ca02d9",
   "outputs": [
    {
     "name": "stdout",
     "output_type": "stream",
     "text": [
      "###Printing for result sizes###\n",
      "22407408 22407.408 22407408\n",
      "22407.408 22407.408 1000\n",
      "\n",
      "\n",
      "###Printing for result sizes###\n",
      "120000 120.0 120000 120 120\n",
      "120.0 120.0 37976 4184 1000\n",
      "\n",
      "\n",
      "###Printing for 5###\n",
      "3133.0 1.2176462537559987 1000\n",
      "3.133 1.2176462537559978 1000\n",
      "\n",
      "\n",
      "###Printing for 10###\n",
      "6060.0 1.2085951418662457 1000\n",
      "6.06 1.208595141866244 1000\n",
      "\n",
      "\n",
      "###Printing for 20###\n",
      "11540.0 1.207054524414615 1000\n",
      "11.54 1.207054524414615 1000\n",
      "\n",
      "\n",
      "###Printing for 30###\n",
      "16650.0 1.21123499568564 1000\n",
      "16.65 1.211234995685641 1000\n",
      "\n",
      "\n",
      "###Printing for 40###\n",
      "21302.0 1.2161555173993153 1000\n",
      "21.302 1.2161555173993142 1000\n",
      "\n",
      "\n",
      "###Printing for 50###\n",
      "25820.0 1.2206173355974317 1000\n",
      "25.82 1.2206173355974324 1000\n"
     ]
    }
   ],
   "execution_count": 5
  },
  {
   "metadata": {},
   "cell_type": "code",
   "outputs": [],
   "execution_count": null,
   "source": "",
   "id": "94257f1780925f71"
  }
 ],
 "metadata": {
  "kernelspec": {
   "display_name": "Python 3",
   "language": "python",
   "name": "python3"
  },
  "language_info": {
   "codemirror_mode": {
    "name": "ipython",
    "version": 2
   },
   "file_extension": ".py",
   "mimetype": "text/x-python",
   "name": "python",
   "nbconvert_exporter": "python",
   "pygments_lexer": "ipython2",
   "version": "2.7.6"
  }
 },
 "nbformat": 4,
 "nbformat_minor": 5
}
