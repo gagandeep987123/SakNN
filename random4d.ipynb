{
 "cells": [
  {
   "cell_type": "code",
   "id": "initial_id",
   "metadata": {
    "collapsed": true,
    "ExecuteTime": {
     "end_time": "2025-02-27T10:27:39.713940Z",
     "start_time": "2025-02-27T10:27:39.502242Z"
    }
   },
   "source": [
    "import stores\n",
    "import numpy as np\n",
    "from pympler import asizeof \n",
    "\n",
    "from performance_helper import performance_gen, performance_gen_leveled"
   ],
   "outputs": [],
   "execution_count": 1
  },
  {
   "metadata": {
    "ExecuteTime": {
     "end_time": "2025-02-27T10:35:50.916725Z",
     "start_time": "2025-02-27T10:27:40.575384Z"
    }
   },
   "cell_type": "code",
   "source": [
    "with open('tsne_transform/transformation_data/random_4d_scikit.npy', 'rb') as f:\n",
    "     embedding = np.load(f)\n",
    "     df = np.load(f)\n",
    "result_store, result_store_enc, query_store, leveled_stores = stores.stores_gen_parallel(org_data=df, tsne_red=embedding, div_qrs=400, gran_ris=2, leveled_gen=True, leveldParams=[100, 10])"
   ],
   "id": "789298cd17b76224",
   "outputs": [
    {
     "name": "stdout",
     "output_type": "stream",
     "text": [
      "All tasks completed\n",
      "Time to create stores:  228.12017512321472\n",
      "Tsne processing\n",
      "Tsne processing Done\n",
      "Tsne processing time:  248.27982306480408\n",
      "All tasks completed\n",
      "Time to create stores:  13.506219387054443\n",
      "Result Store level1 Done\n",
      "Time to create leveled stores:  261.80490899086\n"
     ]
    }
   ],
   "execution_count": 2
  },
  {
   "metadata": {
    "ExecuteTime": {
     "end_time": "2025-02-27T10:35:51.562270Z",
     "start_time": "2025-02-27T10:35:50.925052Z"
    }
   },
   "cell_type": "code",
   "source": [
    "print(\"#Stats about result stores\")\n",
    "store_lens = []\n",
    "max_size = 1\n",
    "min_size = 1000000000\n",
    "for s in result_store:\n",
    "    store_lens.append(result_store[s].shape[0])\n",
    "    max_size = max(max_size, result_store[s].shape[0])\n",
    "    min_size = min(min_size, result_store[s].shape[0])\n",
    "# print(sum(store_lens))\n",
    "# print(len(store_lens))\n",
    "print(\"Avg result store entry size: \",sum(store_lens)/len(store_lens))\n",
    "print(\"Max: \", max_size)\n",
    "print(\"Min: \", min_size)\n",
    "print(\"Size of cloud storage\",asizeof.asizeof(result_store_enc))\n",
    "\n",
    "print(\"\\n\\n#Stats about leveled result stores\")\n",
    "store_lens = []\n",
    "max_size = 1\n",
    "min_size = 1000000000\n",
    "for s in leveled_stores[0]:\n",
    "    store_lens.append(leveled_stores[0][s].shape[0])\n",
    "    max_size = max(max_size, leveled_stores[0][s].shape[0])\n",
    "    min_size = min(min_size, leveled_stores[0][s].shape[0])\n",
    "# print(sum(store_lens))\n",
    "# print(len(store_lens))\n",
    "print(\"Avg result store entry size: \",sum(store_lens)/len(store_lens))\n",
    "print(\"Max: \", max_size)\n",
    "print(\"Min: \", min_size)\n",
    "print(\"Size of leveled cloud storage\",asizeof.asizeof(leveled_stores[0]))"
   ],
   "id": "cce22f5f2b394cab",
   "outputs": [
    {
     "name": "stdout",
     "output_type": "stream",
     "text": [
      "#Stats about result stores\n",
      "Avg result store entry size:  478.83825262574095\n",
      "Max:  932\n",
      "Min:  36\n",
      "Size of cloud storage 1812208624\n",
      "\n",
      "\n",
      "#Stats about leveled result stores\n",
      "Avg result store entry size:  581.8042313872522\n",
      "Max:  963\n",
      "Min:  107\n",
      "Size of leveled cloud storage 210702944\n"
     ]
    }
   ],
   "execution_count": 3
  },
  {
   "metadata": {
    "ExecuteTime": {
     "end_time": "2025-02-27T10:36:58.066560Z",
     "start_time": "2025-02-27T10:35:51.644962Z"
    }
   },
   "cell_type": "code",
   "source": [
    "# sANN execution\n",
    "oars50, recalls50, flags, recalls5, recalls10, recalls20, recalls30, recalls40, oars5, oars10, oars20, oars30, oars40, result_sizes, query_sizes = performance_gen(df, query_store, result_store, result_store_enc, isEnc=True)"
   ],
   "id": "a3f5ef36e732b48c",
   "outputs": [
    {
     "name": "stdout",
     "output_type": "stream",
     "text": [
      "All Tasks done\n"
     ]
    }
   ],
   "execution_count": 4
  },
  {
   "metadata": {
    "ExecuteTime": {
     "end_time": "2025-02-27T10:36:58.243912Z",
     "start_time": "2025-02-27T10:36:58.233485Z"
    }
   },
   "cell_type": "code",
   "source": [
    "print(\"###Printing for result sizes###\")\n",
    "print(sum(result_sizes), np.average(result_sizes), np.sum(result_sizes))\n",
    "indices = np.where(np.array(flags) == True)[0]\n",
    "print(sum(result_sizes[i] for i in indices) / len(indices), sum(result_sizes[i] for i in indices) / len(indices) ,len(indices))\n",
    "\n",
    "print(\"\\n\\n###Printing for result sizes###\")\n",
    "print(sum(query_sizes), np.average(query_sizes), np.sum(query_sizes),max(query_sizes),min(query_sizes))\n",
    "indices = np.where(np.array(flags) == True)[0]\n",
    "print(sum(query_sizes[i] for i in indices) / len(indices), sum(query_sizes[i] for i in indices) / len(indices), max(result_sizes[i] for i in indices),min(result_sizes[i] for i in indices) ,len(indices))\n",
    "\n",
    "print(\"\\n\\n###Printing for 5###\")\n",
    "print(sum(recalls5), np.average(oars5), np.sum(flags))\n",
    "indices = np.where(np.array(flags) == True)[0]\n",
    "print(sum(recalls5[i] for i in indices) / len(indices), sum(oars5[i] for i in indices) / len(indices), len(indices))\n",
    "\n",
    "print(\"\\n\\n###Printing for 10###\")\n",
    "print(sum(recalls10), np.average(oars10), np.sum(flags))\n",
    "indices = np.where(np.array(flags) == True)[0]\n",
    "print(sum(recalls10[i] for i in indices) / len(indices), sum(oars10[i] for i in indices) / len(indices), len(indices))\n",
    "\n",
    "print(\"\\n\\n###Printing for 20###\")\n",
    "print(sum(recalls20), np.average(oars20), np.sum(flags))\n",
    "indices = np.where(np.array(flags) == True)[0]\n",
    "print(sum(recalls20[i] for i in indices) / len(indices), sum(oars20[i] for i in indices) / len(indices), len(indices))\n",
    "\n",
    "print(\"\\n\\n###Printing for 30###\")\n",
    "print(sum(recalls30), np.average(oars30), np.sum(flags))\n",
    "indices = np.where(np.array(flags) == True)[0]\n",
    "print(sum(recalls30[i] for i in indices) / len(indices), sum(oars30[i] for i in indices) / len(indices), len(indices))\n",
    "\n",
    "print(\"\\n\\n###Printing for 40###\")\n",
    "print(sum(recalls40), np.average(oars40), np.sum(flags))\n",
    "indices = np.where(np.array(flags) == True)[0]\n",
    "print(sum(recalls40[i] for i in indices) / len(indices), sum(oars40[i] for i in indices) / len(indices), len(indices))\n",
    "\n",
    "print(\"\\n\\n###Printing for 50###\")\n",
    "print(sum(recalls50), np.average(oars50), np.sum(flags))\n",
    "indices = np.where(np.array(flags) == True)[0]\n",
    "print(sum(recalls50[i] for i in indices) / len(indices), sum(oars50[i] for i in indices) / len(indices), len(indices))"
   ],
   "id": "ca3330c3da6be4a5",
   "outputs": [
    {
     "name": "stdout",
     "output_type": "stream",
     "text": [
      "###Printing for result sizes###\n",
      "16446400 16446.4 16446400\n",
      "16446.4 16446.4 1000\n",
      "\n",
      "\n",
      "###Printing for result sizes###\n",
      "120000 120.0 120000 120 120\n",
      "120.0 120.0 28024 4504 1000\n",
      "\n",
      "\n",
      "###Printing for 5###\n",
      "3634.0 1.186359548477132 1000\n",
      "3.634 1.186359548477133 1000\n",
      "\n",
      "\n",
      "###Printing for 10###\n",
      "7113.0 1.1757979719646685 1000\n",
      "7.113 1.175797971964669 1000\n",
      "\n",
      "\n",
      "###Printing for 20###\n",
      "13702.0 1.1729241578782534 1000\n",
      "13.702 1.172924157878252 1000\n",
      "\n",
      "\n",
      "###Printing for 30###\n",
      "19920.0 1.1758226241461247 1000\n",
      "19.92 1.1758226241461254 1000\n",
      "\n",
      "\n",
      "###Printing for 40###\n",
      "25841.0 1.1795197538132345 1000\n",
      "25.841 1.1795197538132345 1000\n",
      "\n",
      "\n",
      "###Printing for 50###\n",
      "31508.0 1.1833209568614507 1000\n",
      "31.508 1.183320956861451 1000\n"
     ]
    }
   ],
   "execution_count": 5
  },
  {
   "metadata": {
    "ExecuteTime": {
     "end_time": "2025-02-27T10:37:01.302516Z",
     "start_time": "2025-02-27T10:36:58.251807Z"
    }
   },
   "cell_type": "code",
   "source": "oars50, recalls50, flags, recalls5, recalls10, recalls20, recalls30, recalls40, oars5, oars10, oars20, oars30, oars40, result_sizes, query_sizes = performance_gen(df, query_store, result_store, result_store_enc, isEnc=True, timeCalFlag=True)",
   "id": "1f8e3b1b98e8b246",
   "outputs": [
    {
     "name": "stdout",
     "output_type": "stream",
     "text": [
      "Time taken: 2.8056395053863525\n",
      "All Tasks done\n"
     ]
    }
   ],
   "execution_count": 6
  },
  {
   "metadata": {
    "ExecuteTime": {
     "end_time": "2025-02-27T10:38:08.905563Z",
     "start_time": "2025-02-27T10:37:01.392757Z"
    }
   },
   "cell_type": "code",
   "source": [
    "oars50, recalls50, flags, recalls5, recalls10, recalls20, recalls30, recalls40, oars5, oars10, oars20, oars30, oars40,query_sizes1, query_sizes2, result_sizes1, result_sizes2  = (\n",
    "    performance_gen_leveled(\n",
    "        df, result_store, result_store_enc,\n",
    "        query_store_level1=leveled_stores[2],\n",
    "        result_store_level1=leveled_stores[0],\n",
    "        result_store_level1_enc=leveled_stores[1],\n",
    "        isEnc=True\n",
    "    )\n",
    ")"
   ],
   "id": "814ee2ab17e70168",
   "outputs": [
    {
     "name": "stdout",
     "output_type": "stream",
     "text": [
      "All Tasks done\n"
     ]
    }
   ],
   "execution_count": 7
  },
  {
   "metadata": {
    "ExecuteTime": {
     "end_time": "2025-02-27T10:38:09.081857Z",
     "start_time": "2025-02-27T10:38:09.069704Z"
    }
   },
   "cell_type": "code",
   "source": [
    "print(\"\\n\\n###Printing for result sizes 1###\")\n",
    "print(sum(result_sizes1), np.average(result_sizes1), np.sum(result_sizes1))\n",
    "indices = np.where(np.array(flags) == True)[0]\n",
    "print(sum(result_sizes1[i] for i in indices) / len(indices), sum(result_sizes1[i] for i in indices) / len(indices), len(indices))\n",
    "\n",
    "print(\"\\n\\n###Printing for result sizes 2###\")\n",
    "print(sum(result_sizes2), np.average(result_sizes2), np.sum(result_sizes2))\n",
    "indices = np.where(np.array(flags) == True)[0]\n",
    "print(sum(result_sizes2[i] for i in indices) / len(indices), sum(result_sizes2[i] for i in indices) / len(indices), len(indices))\n",
    "\n",
    "\n",
    "print(\"\\n\\n###Printing for query sizes 2###\")\n",
    "print(sum(query_sizes1), np.average(query_sizes1), np.sum(query_sizes1),max(query_sizes1),min(query_sizes1))\n",
    "indices = np.where(np.array(flags) == True)[0]\n",
    "print(sum(query_sizes1[i] for i in indices) / len(indices), sum(query_sizes1[i] for i in indices) / len(indices), len(indices))\n",
    "\n",
    "print(\"\\n\\n###Printing for query sizes 2###\")\n",
    "print(sum(query_sizes2), np.average(query_sizes2), np.sum(query_sizes2),max(query_sizes2),min(query_sizes2))\n",
    "indices = np.where(np.array(flags) == True)[0]\n",
    "print(sum(query_sizes2[i] for i in indices) / len(indices), sum(query_sizes2[i] for i in indices) / len(indices), len(indices))\n",
    "\n",
    "print(\"###Printing for 5###\")\n",
    "print(sum(recalls5), np.average(oars5), np.sum(flags))\n",
    "indices = np.where(np.array(flags) == True)[0]\n",
    "print(sum(recalls5[i] for i in indices) / len(indices), sum(oars5[i] for i in indices) / len(indices), len(indices))\n",
    "\n",
    "print(\"\\n\\n###Printing for 10###\")\n",
    "print(sum(recalls10), np.average(oars10), np.sum(flags))\n",
    "indices = np.where(np.array(flags) == True)[0]\n",
    "print(sum(recalls10[i] for i in indices) / len(indices), sum(oars10[i] for i in indices) / len(indices), len(indices))\n",
    "\n",
    "print(\"\\n\\n###Printing for 20###\")\n",
    "print(sum(recalls20), np.average(oars20), np.sum(flags))\n",
    "indices = np.where(np.array(flags) == True)[0]\n",
    "print(sum(recalls20[i] for i in indices) / len(indices), sum(oars20[i] for i in indices) / len(indices), len(indices))\n",
    "\n",
    "print(\"\\n\\n###Printing for 30###\")\n",
    "print(sum(recalls30), np.average(oars30), np.sum(flags))\n",
    "indices = np.where(np.array(flags) == True)[0]\n",
    "print(sum(recalls30[i] for i in indices) / len(indices), sum(oars30[i] for i in indices) / len(indices), len(indices))\n",
    "\n",
    "print(\"\\n\\n###Printing for 40###\")\n",
    "print(sum(recalls40), np.average(oars40), np.sum(flags))\n",
    "indices = np.where(np.array(flags) == True)[0]\n",
    "print(sum(recalls40[i] for i in indices) / len(indices), sum(oars40[i] for i in indices) / len(indices), len(indices))\n",
    "\n",
    "print(\"\\n\\n###Printing for 50###\")\n",
    "print(sum(recalls50), np.average(oars50), np.sum(flags))\n",
    "indices = np.where(np.array(flags) == True)[0]\n",
    "print(sum(recalls50[i] for i in indices) / len(indices), sum(oars50[i] for i in indices) / len(indices), len(indices))"
   ],
   "id": "493e1d82f090e0a3",
   "outputs": [
    {
     "name": "stdout",
     "output_type": "stream",
     "text": [
      "\n",
      "\n",
      "###Printing for result sizes 1###\n",
      "29461488 29461.488 29461488\n",
      "29461.488 29461.488 1000\n",
      "\n",
      "\n",
      "###Printing for result sizes 2###\n",
      "16463104 16463.104 16463104\n",
      "16463.104 16463.104 1000\n",
      "\n",
      "\n",
      "###Printing for query sizes 2###\n",
      "120000 120.0 120000 120 120\n",
      "120.0 120.0 1000\n",
      "\n",
      "\n",
      "###Printing for query sizes 2###\n",
      "120000 120.0 120000 120 120\n",
      "120.0 120.0 1000\n",
      "###Printing for 5###\n",
      "3493.0 1.263277784492746 1000\n",
      "3.493 1.263277784492747 1000\n",
      "\n",
      "\n",
      "###Printing for 10###\n",
      "6803.0 1.2394884649432665 1000\n",
      "6.803 1.239488464943266 1000\n",
      "\n",
      "\n",
      "###Printing for 20###\n",
      "13147.0 1.2252901305488868 1000\n",
      "13.147 1.2252901305488857 1000\n",
      "\n",
      "\n",
      "###Printing for 30###\n",
      "19123.0 1.2215693423576357 1000\n",
      "19.123 1.2215693423576361 1000\n",
      "\n",
      "\n",
      "###Printing for 40###\n",
      "24923.0 1.2214197767151416 1000\n",
      "24.923 1.2214197767151413 1000\n",
      "\n",
      "\n",
      "###Printing for 50###\n",
      "30440.0 1.2228709272854636 1000\n",
      "30.44 1.2228709272854645 1000\n"
     ]
    }
   ],
   "execution_count": 8
  },
  {
   "metadata": {
    "ExecuteTime": {
     "end_time": "2025-02-27T10:38:09.800464Z",
     "start_time": "2025-02-27T10:38:09.193031Z"
    }
   },
   "cell_type": "code",
   "source": [
    "oars50, recalls50, flags, recalls5, recalls10, recalls20, recalls30, recalls40, oars5, oars10, oars20, oars30, oars40,query_sizes1, query_sizes2, result_sizes1, result_sizes2  = (\n",
    "    performance_gen_leveled(\n",
    "        df, result_store, result_store_enc,\n",
    "        query_store_level1=leveled_stores[2],\n",
    "        result_store_level1=leveled_stores[0],\n",
    "        result_store_level1_enc=leveled_stores[1],\n",
    "        isEnc=True, timeCalFlag=True\n",
    "    )\n",
    ")"
   ],
   "id": "4f78a24ea7b9f848",
   "outputs": [
    {
     "name": "stdout",
     "output_type": "stream",
     "text": [
      "Time taken: 0.3773477077484131\n",
      "All Tasks done\n"
     ]
    }
   ],
   "execution_count": 9
  },
  {
   "metadata": {},
   "cell_type": "code",
   "outputs": [],
   "execution_count": null,
   "source": "",
   "id": "94257f1780925f71"
  }
 ],
 "metadata": {
  "kernelspec": {
   "display_name": "Python 3",
   "language": "python",
   "name": "python3"
  },
  "language_info": {
   "codemirror_mode": {
    "name": "ipython",
    "version": 2
   },
   "file_extension": ".py",
   "mimetype": "text/x-python",
   "name": "python",
   "nbconvert_exporter": "python",
   "pygments_lexer": "ipython2",
   "version": "2.7.6"
  }
 },
 "nbformat": 4,
 "nbformat_minor": 5
}
