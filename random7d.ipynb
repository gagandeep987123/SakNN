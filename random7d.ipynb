{
 "cells": [
  {
   "cell_type": "code",
   "id": "initial_id",
   "metadata": {
    "collapsed": true,
    "ExecuteTime": {
     "end_time": "2025-02-27T14:05:29.739896Z",
     "start_time": "2025-02-27T14:05:29.523232Z"
    }
   },
   "source": [
    "import stores\n",
    "import numpy as np\n",
    "from pympler import asizeof \n",
    "\n",
    "from performance_helper import performance_gen, performance_gen_leveled"
   ],
   "outputs": [],
   "execution_count": 1
  },
  {
   "metadata": {
    "ExecuteTime": {
     "end_time": "2025-02-27T14:15:05.099538Z",
     "start_time": "2025-02-27T14:05:40.045270Z"
    }
   },
   "cell_type": "code",
   "source": [
    "with open('tsne_transform/transformation_data/random_7d_scikit.npy', 'rb') as f:\n",
    "     embedding = np.load(f)\n",
    "     df = np.load(f)\n",
    "result_store, result_store_enc, query_store, leveled_stores = stores.stores_gen_parallel(org_data=df, tsne_red=embedding, div_qrs=400, gran_ris=2, leveled_gen=True, leveldParams=[100, 10])"
   ],
   "id": "789298cd17b76224",
   "outputs": [
    {
     "name": "stdout",
     "output_type": "stream",
     "text": [
      "All tasks completed\n",
      "Time to create stores:  261.09391713142395\n",
      "Tsne processing\n",
      "Tsne processing Done\n",
      "Tsne processing time:  288.4341399669647\n",
      "All tasks completed\n",
      "Time to create stores:  15.049328804016113\n",
      "Result Store level1 Done\n",
      "Time to create leveled stores:  303.5072865486145\n"
     ]
    }
   ],
   "execution_count": 2
  },
  {
   "metadata": {
    "ExecuteTime": {
     "end_time": "2025-02-27T14:15:05.812799Z",
     "start_time": "2025-02-27T14:15:05.162202Z"
    }
   },
   "cell_type": "code",
   "source": [
    "print(\"#Stats about result stores\")\n",
    "store_lens = []\n",
    "max_size = 1\n",
    "min_size = 1000000000\n",
    "for s in result_store:\n",
    "    store_lens.append(result_store[s].shape[0])\n",
    "    max_size = max(max_size, result_store[s].shape[0])\n",
    "    min_size = min(min_size, result_store[s].shape[0])\n",
    "# print(sum(store_lens))\n",
    "# print(len(store_lens))\n",
    "print(\"Avg result store entry size: \",sum(store_lens)/len(store_lens))\n",
    "print(\"Max: \", max_size)\n",
    "print(\"Min: \", min_size)\n",
    "print(\"Size of cloud storage\",asizeof.asizeof(result_store_enc))\n",
    "\n",
    "print(\"\\n\\n#Stats about leveled result stores\")\n",
    "store_lens = []\n",
    "max_size = 1\n",
    "min_size = 1000000000\n",
    "for s in leveled_stores[0]:\n",
    "    store_lens.append(leveled_stores[0][s].shape[0])\n",
    "    max_size = max(max_size, leveled_stores[0][s].shape[0])\n",
    "    min_size = min(min_size, leveled_stores[0][s].shape[0])\n",
    "# print(sum(store_lens))\n",
    "# print(len(store_lens))\n",
    "print(\"Avg result store entry size: \",sum(store_lens)/len(store_lens))\n",
    "print(\"Max: \", max_size)\n",
    "print(\"Min: \", min_size)\n",
    "print(\"Size of leveled cloud storage\",asizeof.asizeof(leveled_stores[0]))"
   ],
   "id": "cce22f5f2b394cab",
   "outputs": [
    {
     "name": "stdout",
     "output_type": "stream",
     "text": [
      "#Stats about result stores\n",
      "Avg result store entry size:  600.1147244108004\n",
      "Max:  1151\n",
      "Min:  1\n",
      "Size of cloud storage 3960478320\n",
      "\n",
      "\n",
      "#Stats about leveled result stores\n",
      "Avg result store entry size:  728.1190182366653\n",
      "Max:  1103\n",
      "Min:  97\n",
      "Size of leveled cloud storage 384436056\n"
     ]
    }
   ],
   "execution_count": 3
  },
  {
   "metadata": {
    "ExecuteTime": {
     "end_time": "2025-02-27T14:16:24.231619Z",
     "start_time": "2025-02-27T14:15:05.892805Z"
    }
   },
   "cell_type": "code",
   "source": [
    "# sANN execution\n",
    "oars50, recalls50, flags, recalls5, recalls10, recalls20, recalls30, recalls40, oars5, oars10, oars20, oars30, oars40, result_sizes, query_sizes = performance_gen(df, query_store, result_store, result_store_enc, isEnc=True)"
   ],
   "id": "a3f5ef36e732b48c",
   "outputs": [
    {
     "name": "stdout",
     "output_type": "stream",
     "text": [
      "All Tasks done\n"
     ]
    }
   ],
   "execution_count": 4
  },
  {
   "metadata": {
    "ExecuteTime": {
     "end_time": "2025-02-27T14:16:24.326367Z",
     "start_time": "2025-02-27T14:16:24.316652Z"
    }
   },
   "cell_type": "code",
   "source": [
    "print(\"###Printing for result sizes###\")\n",
    "print(sum(result_sizes), np.average(result_sizes), np.sum(result_sizes))\n",
    "indices = np.where(np.array(flags) == True)[0]\n",
    "print(sum(result_sizes[i] for i in indices) / len(indices), sum(result_sizes[i] for i in indices) / len(indices) ,len(indices))\n",
    "\n",
    "print(\"\\n\\n###Printing for result sizes###\")\n",
    "print(sum(query_sizes), np.average(query_sizes), np.sum(query_sizes),max(query_sizes),min(query_sizes))\n",
    "indices = np.where(np.array(flags) == True)[0]\n",
    "print(sum(query_sizes[i] for i in indices) / len(indices), sum(query_sizes[i] for i in indices) / len(indices), max(result_sizes[i] for i in indices),min(result_sizes[i] for i in indices) ,len(indices))\n",
    "\n",
    "print(\"\\n\\n###Printing for 5###\")\n",
    "print(sum(recalls5), np.average(oars5), np.sum(flags))\n",
    "indices = np.where(np.array(flags) == True)[0]\n",
    "print(sum(recalls5[i] for i in indices) / len(indices), sum(oars5[i] for i in indices) / len(indices), len(indices))\n",
    "\n",
    "print(\"\\n\\n###Printing for 10###\")\n",
    "print(sum(recalls10), np.average(oars10), np.sum(flags))\n",
    "indices = np.where(np.array(flags) == True)[0]\n",
    "print(sum(recalls10[i] for i in indices) / len(indices), sum(oars10[i] for i in indices) / len(indices), len(indices))\n",
    "\n",
    "print(\"\\n\\n###Printing for 20###\")\n",
    "print(sum(recalls20), np.average(oars20), np.sum(flags))\n",
    "indices = np.where(np.array(flags) == True)[0]\n",
    "print(sum(recalls20[i] for i in indices) / len(indices), sum(oars20[i] for i in indices) / len(indices), len(indices))\n",
    "\n",
    "print(\"\\n\\n###Printing for 30###\")\n",
    "print(sum(recalls30), np.average(oars30), np.sum(flags))\n",
    "indices = np.where(np.array(flags) == True)[0]\n",
    "print(sum(recalls30[i] for i in indices) / len(indices), sum(oars30[i] for i in indices) / len(indices), len(indices))\n",
    "\n",
    "print(\"\\n\\n###Printing for 40###\")\n",
    "print(sum(recalls40), np.average(oars40), np.sum(flags))\n",
    "indices = np.where(np.array(flags) == True)[0]\n",
    "print(sum(recalls40[i] for i in indices) / len(indices), sum(oars40[i] for i in indices) / len(indices), len(indices))\n",
    "\n",
    "print(\"\\n\\n###Printing for 50###\")\n",
    "print(sum(recalls50), np.average(oars50), np.sum(flags))\n",
    "indices = np.where(np.array(flags) == True)[0]\n",
    "print(sum(recalls50[i] for i in indices) / len(indices), sum(oars50[i] for i in indices) / len(indices), len(indices))"
   ],
   "id": "ca3330c3da6be4a5",
   "outputs": [
    {
     "name": "stdout",
     "output_type": "stream",
     "text": [
      "###Printing for result sizes###\n",
      "36005408 36005.408 36005408\n",
      "36005.408 36005.408 1000\n",
      "\n",
      "\n",
      "###Printing for result sizes###\n",
      "120000 120.0 120000 120 120\n",
      "120.0 120.0 60200 4248 1000\n",
      "\n",
      "\n",
      "###Printing for 5###\n",
      "2378.0 1.246238720042937 1000\n",
      "2.378 1.2462387200429366 1000\n",
      "\n",
      "\n",
      "###Printing for 10###\n",
      "4420.0 1.2463438785555372 1000\n",
      "4.42 1.246343878555539 1000\n",
      "\n",
      "\n",
      "###Printing for 20###\n",
      "8091.0 1.2535284202218195 1000\n",
      "8.091 1.253528420221819 1000\n",
      "\n",
      "\n",
      "###Printing for 30###\n",
      "11479.0 1.2612420123267598 1000\n",
      "11.479 1.2612420123267594 1000\n",
      "\n",
      "\n",
      "###Printing for 40###\n",
      "14628.0 1.2687654165748663 1000\n",
      "14.628 1.268765416574867 1000\n",
      "\n",
      "\n",
      "###Printing for 50###\n",
      "17613.0 1.275198280623221 1000\n",
      "17.613 1.2751982806232212 1000\n"
     ]
    }
   ],
   "execution_count": 5
  },
  {
   "metadata": {
    "ExecuteTime": {
     "end_time": "2024-10-08T19:51:33.193175Z",
     "start_time": "2024-10-08T19:51:33.191047Z"
    }
   },
   "cell_type": "code",
   "source": "",
   "id": "94257f1780925f71",
   "outputs": [],
   "execution_count": null
  }
 ],
 "metadata": {
  "kernelspec": {
   "display_name": "Python 3",
   "language": "python",
   "name": "python3"
  },
  "language_info": {
   "codemirror_mode": {
    "name": "ipython",
    "version": 2
   },
   "file_extension": ".py",
   "mimetype": "text/x-python",
   "name": "python",
   "nbconvert_exporter": "python",
   "pygments_lexer": "ipython2",
   "version": "2.7.6"
  }
 },
 "nbformat": 4,
 "nbformat_minor": 5
}
