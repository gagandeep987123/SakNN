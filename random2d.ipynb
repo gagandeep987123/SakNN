{
 "cells": [
  {
   "cell_type": "code",
   "id": "initial_id",
   "metadata": {
    "collapsed": true,
    "ExecuteTime": {
     "end_time": "2025-02-28T21:56:25.077594Z",
     "start_time": "2025-02-28T21:56:24.846133Z"
    }
   },
   "source": [
    "import stores\n",
    "import numpy as np\n",
    "from pympler import asizeof \n",
    "\n",
    "from performance_helper import performance_gen, performance_gen_leveled"
   ],
   "outputs": [],
   "execution_count": 1
  },
  {
   "metadata": {
    "ExecuteTime": {
     "end_time": "2025-02-28T22:03:47.215483Z",
     "start_time": "2025-02-28T21:56:25.763075Z"
    }
   },
   "cell_type": "code",
   "source": [
    "with open('tsne_transform/transformation_data/random_2d_scikit.npy', 'rb') as f:\n",
    "     embedding = np.load(f)\n",
    "     df = np.load(f)\n",
    "result_store, result_store_enc, query_store, leveled_stores = stores.stores_gen_parallel(org_data=df, tsne_red=embedding, div_qrs=400, gran_ris=2, leveled_gen=True, leveldParams=[100, 10])"
   ],
   "id": "f59eb76442668751",
   "outputs": [
    {
     "name": "stdout",
     "output_type": "stream",
     "text": [
      "All tasks completed\n",
      "Time to create stores:  205.93079543113708\n",
      "Tsne processing\n",
      "Tsne processing Done\n",
      "Tsne processing time:  224.38913130760193\n",
      "All tasks completed\n",
      "Time to create stores:  10.832401752471924\n",
      "Result Store level1 Done\n",
      "Time to create leveled stores:  235.24110555648804\n"
     ]
    }
   ],
   "execution_count": 2
  },
  {
   "metadata": {
    "ExecuteTime": {
     "end_time": "2025-02-28T22:03:47.802742Z",
     "start_time": "2025-02-28T22:03:47.228646Z"
    }
   },
   "cell_type": "code",
   "source": [
    "print(\"#Stats about result stores\")\n",
    "store_lens = []\n",
    "max_size = 1\n",
    "min_size = 1000000000\n",
    "for s in result_store:\n",
    "    store_lens.append(result_store[s].shape[0])\n",
    "    max_size = max(max_size, result_store[s].shape[0])\n",
    "    min_size = min(min_size, result_store[s].shape[0])\n",
    "# print(sum(store_lens))\n",
    "# print(len(store_lens))\n",
    "print(\"Avg result store entry size: \",sum(store_lens)/len(store_lens))\n",
    "print(\"Max: \", max_size)\n",
    "print(\"Min: \", min_size)\n",
    "print(\"Size of local storage\",asizeof.asizeof(query_store))\n",
    "print(\"Size of cloud storage\",asizeof.asizeof(result_store_enc))\n",
    "\n",
    "print(\"\\n\\n#Stats about leveled result stores\")\n",
    "store_lens = []\n",
    "max_size = 1\n",
    "min_size = 1000000000\n",
    "for s in leveled_stores[0]:\n",
    "    store_lens.append(leveled_stores[0][s].shape[0])\n",
    "    max_size = max(max_size, leveled_stores[0][s].shape[0])\n",
    "    min_size = min(min_size, leveled_stores[0][s].shape[0])\n",
    "# print(sum(store_lens))\n",
    "# print(len(store_lens))\n",
    "print(\"Avg result store entry size: \",sum(store_lens)/len(store_lens))\n",
    "print(\"Max: \", max_size)\n",
    "print(\"Min: \", min_size)\n",
    "print(\"Size of local storage\",asizeof.asizeof(leveled_stores[2]))\n",
    "print(\"Size of leveled cloud storage\",asizeof.asizeof(leveled_stores[0]))"
   ],
   "id": "cce22f5f2b394cab",
   "outputs": [
    {
     "name": "stdout",
     "output_type": "stream",
     "text": [
      "#Stats about result stores\n",
      "Avg result store entry size:  397.45074248989727\n",
      "Max:  656\n",
      "Min:  59\n",
      "Size of local storage 3286384\n",
      "Size of cloud storage 692807712\n",
      "\n",
      "\n",
      "#Stats about leveled result stores\n",
      "Avg result store entry size:  432.5936416184971\n",
      "Max:  572\n",
      "Min:  154\n",
      "Size of local storage 166224\n",
      "Size of leveled cloud storage 73279832\n"
     ]
    }
   ],
   "execution_count": 3
  },
  {
   "metadata": {
    "ExecuteTime": {
     "end_time": "2025-02-27T08:00:18.156089Z",
     "start_time": "2025-02-27T08:00:18.153978Z"
    }
   },
   "cell_type": "code",
   "source": [
    "# start = time.time()\n",
    "# query_store = stores.query_index_gen_parallel(org_data=df, tsne_red=embedding, gran_query=400)\n",
    "# end = time.time()\n",
    "# print(\"runtime:\", (end - start))"
   ],
   "id": "a3f5ef36e732b48c",
   "outputs": [],
   "execution_count": 15
  },
  {
   "metadata": {
    "ExecuteTime": {
     "end_time": "2025-02-27T08:00:18.225418Z",
     "start_time": "2025-02-27T08:00:18.223631Z"
    }
   },
   "cell_type": "code",
   "source": [
    "#Plaintext Execution\n",
    "#oars50, recalls50, flags, recalls5, recalls10, recalls20, recalls30, recalls40, oars5, oars10, oars20, oars30, oars40, result_sizes, query_sizes = performance_gen(df, query_store, result_store, result_store_enc)\n"
   ],
   "id": "ca3330c3da6be4a5",
   "outputs": [],
   "execution_count": 16
  },
  {
   "metadata": {
    "ExecuteTime": {
     "end_time": "2025-02-27T08:00:18.293643Z",
     "start_time": "2025-02-27T08:00:18.291417Z"
    }
   },
   "cell_type": "code",
   "source": [
    "# print(\"###Printing for result sizes###\")\n",
    "# print(sum(result_sizes), np.average(result_sizes), np.sum(result_sizes))\n",
    "# indices = np.where(np.array(flags) == True)[0]\n",
    "# print(sum(result_sizes[i] for i in indices) / len(indices), sum(result_sizes[i] for i in indices) / len(indices), len(indices))\n",
    "# \n",
    "# print(\"###Printing for result sizes###\")\n",
    "# print(sum(query_sizes), np.average(query_sizes), np.sum(query_sizes),max(query_sizes),min(query_sizes))\n",
    "# indices = np.where(np.array(flags) == True)[0]\n",
    "# print(sum(query_sizes[i] for i in indices) / len(indices), sum(query_sizes[i] for i in indices) / len(indices), len(indices))\n",
    "# \n",
    "# print(\"###Printing for 5###\")\n",
    "# print(sum(recalls5), np.average(oars5), np.sum(flags))\n",
    "# indices = np.where(np.array(flags) == True)[0]\n",
    "# print(sum(recalls5[i] for i in indices) / len(indices), sum(oars5[i] for i in indices) / len(indices), len(indices))\n",
    "# \n",
    "# print(\"\\n\\n###Printing for 10###\")\n",
    "# print(sum(recalls10), np.average(oars10), np.sum(flags))\n",
    "# indices = np.where(np.array(flags) == True)[0]\n",
    "# print(sum(recalls10[i] for i in indices) / len(indices), sum(oars10[i] for i in indices) / len(indices), len(indices))\n",
    "# \n",
    "# print(\"\\n\\n###Printing for 20###\")\n",
    "# print(sum(recalls20), np.average(oars20), np.sum(flags))\n",
    "# indices = np.where(np.array(flags) == True)[0]\n",
    "# print(sum(recalls20[i] for i in indices) / len(indices), sum(oars20[i] for i in indices) / len(indices), len(indices))\n",
    "# \n",
    "# print(\"\\n\\n###Printing for 30###\")\n",
    "# print(sum(recalls30), np.average(oars30), np.sum(flags))\n",
    "# indices = np.where(np.array(flags) == True)[0]\n",
    "# print(sum(recalls30[i] for i in indices) / len(indices), sum(oars30[i] for i in indices) / len(indices), len(indices))\n",
    "# \n",
    "# print(\"\\n\\n###Printing for 40###\")\n",
    "# print(sum(recalls40), np.average(oars40), np.sum(flags))\n",
    "# indices = np.where(np.array(flags) == True)[0]\n",
    "# print(sum(recalls40[i] for i in indices) / len(indices), sum(oars40[i] for i in indices) / len(indices), len(indices))\n",
    "# \n",
    "# print(\"\\n\\n###Printing for 50###\")\n",
    "# print(sum(recalls50), np.average(oars50), np.sum(flags))\n",
    "# indices = np.where(np.array(flags) == True)[0]\n",
    "# print(sum(recalls50[i] for i in indices) / len(indices), sum(oars50[i] for i in indices) / len(indices), len(indices))"
   ],
   "id": "a652f727dac01d78",
   "outputs": [],
   "execution_count": 17
  },
  {
   "metadata": {
    "ExecuteTime": {
     "end_time": "2025-02-27T08:01:18.880443Z",
     "start_time": "2025-02-27T08:00:18.368245Z"
    }
   },
   "cell_type": "code",
   "source": [
    "# sANN execution\n",
    "oars50, recalls50, flags, recalls5, recalls10, recalls20, recalls30, recalls40, oars5, oars10, oars20, oars30, oars40, result_sizes, query_sizes = performance_gen(df, query_store, result_store, result_store_enc, isEnc=True)"
   ],
   "id": "f55a13a6de45310b",
   "outputs": [
    {
     "name": "stdout",
     "output_type": "stream",
     "text": [
      "All Tasks done\n"
     ]
    }
   ],
   "execution_count": 18
  },
  {
   "metadata": {
    "ExecuteTime": {
     "end_time": "2025-02-27T08:01:18.972807Z",
     "start_time": "2025-02-27T08:01:18.963797Z"
    }
   },
   "cell_type": "code",
   "source": [
    "print(\"###Printing for result sizes###\")\n",
    "print(sum(result_sizes), np.average(result_sizes), np.sum(result_sizes))\n",
    "indices = np.where(np.array(flags) == True)[0]\n",
    "print(sum(result_sizes[i] for i in indices) / len(indices), sum(result_sizes[i] for i in indices) / len(indices) ,len(indices))\n",
    "\n",
    "print(\"\\n\\n###Printing for result sizes###\")\n",
    "print(sum(query_sizes), np.average(query_sizes), np.sum(query_sizes),max(query_sizes),min(query_sizes))\n",
    "indices = np.where(np.array(flags) == True)[0]\n",
    "print(sum(query_sizes[i] for i in indices) / len(indices), sum(query_sizes[i] for i in indices) / len(indices), max(result_sizes[i] for i in indices),min(result_sizes[i] for i in indices) ,len(indices))\n",
    "\n",
    "print(\"\\n\\n###Printing for 5###\")\n",
    "print(sum(recalls5), np.average(oars5), np.sum(flags))\n",
    "indices = np.where(np.array(flags) == True)[0]\n",
    "print(sum(recalls5[i] for i in indices) / len(indices), sum(oars5[i] for i in indices) / len(indices), len(indices))\n",
    "\n",
    "print(\"\\n\\n###Printing for 10###\")\n",
    "print(sum(recalls10), np.average(oars10), np.sum(flags))\n",
    "indices = np.where(np.array(flags) == True)[0]\n",
    "print(sum(recalls10[i] for i in indices) / len(indices), sum(oars10[i] for i in indices) / len(indices), len(indices))\n",
    "\n",
    "print(\"\\n\\n###Printing for 20###\")\n",
    "print(sum(recalls20), np.average(oars20), np.sum(flags))\n",
    "indices = np.where(np.array(flags) == True)[0]\n",
    "print(sum(recalls20[i] for i in indices) / len(indices), sum(oars20[i] for i in indices) / len(indices), len(indices))\n",
    "\n",
    "print(\"\\n\\n###Printing for 30###\")\n",
    "print(sum(recalls30), np.average(oars30), np.sum(flags))\n",
    "indices = np.where(np.array(flags) == True)[0]\n",
    "print(sum(recalls30[i] for i in indices) / len(indices), sum(oars30[i] for i in indices) / len(indices), len(indices))\n",
    "\n",
    "print(\"\\n\\n###Printing for 40###\")\n",
    "print(sum(recalls40), np.average(oars40), np.sum(flags))\n",
    "indices = np.where(np.array(flags) == True)[0]\n",
    "print(sum(recalls40[i] for i in indices) / len(indices), sum(oars40[i] for i in indices) / len(indices), len(indices))\n",
    "\n",
    "print(\"\\n\\n###Printing for 50###\")\n",
    "print(sum(recalls50), np.average(oars50), np.sum(flags))\n",
    "indices = np.where(np.array(flags) == True)[0]\n",
    "print(sum(recalls50[i] for i in indices) / len(indices), sum(oars50[i] for i in indices) / len(indices), len(indices))"
   ],
   "id": "814ee2ab17e70168",
   "outputs": [
    {
     "name": "stdout",
     "output_type": "stream",
     "text": [
      "###Printing for result sizes###\n",
      "7036848 7036.848 7036848\n",
      "7036.848 7036.848 1000\n",
      "\n",
      "\n",
      "###Printing for result sizes###\n",
      "120000 120.0 120000 120 120\n",
      "120.0 120.0 10168 3224 1000\n",
      "\n",
      "\n",
      "###Printing for 5###\n",
      "5000.0 1.0 1000\n",
      "5.0 1.0 1000\n",
      "\n",
      "\n",
      "###Printing for 10###\n",
      "10000.0 1.0 1000\n",
      "10.0 1.0 1000\n",
      "\n",
      "\n",
      "###Printing for 20###\n",
      "20000.0 1.0 1000\n",
      "20.0 1.0 1000\n",
      "\n",
      "\n",
      "###Printing for 30###\n",
      "29999.0 1.000004444940022 1000\n",
      "29.999 1.000004444940022 1000\n",
      "\n",
      "\n",
      "###Printing for 40###\n",
      "39997.0 1.0000087952271237 1000\n",
      "39.997 1.0000087952271237 1000\n",
      "\n",
      "\n",
      "###Printing for 50###\n",
      "49989.0 1.0000255238843458 1000\n",
      "49.989 1.0000255238843458 1000\n"
     ]
    }
   ],
   "execution_count": 19
  },
  {
   "metadata": {
    "ExecuteTime": {
     "end_time": "2025-02-27T08:01:21.465563Z",
     "start_time": "2025-02-27T08:01:19.039839Z"
    }
   },
   "cell_type": "code",
   "source": "oars50, recalls50, flags, recalls5, recalls10, recalls20, recalls30, recalls40, oars5, oars10, oars20, oars30, oars40, result_sizes, query_sizes = performance_gen(df, query_store, result_store, result_store_enc, isEnc=True, timeCalFlag=True)",
   "id": "e945fa8504cc5a70",
   "outputs": [
    {
     "name": "stdout",
     "output_type": "stream",
     "text": [
      "Time taken: 2.1744072437286377\n",
      "All Tasks done\n"
     ]
    }
   ],
   "execution_count": 20
  },
  {
   "metadata": {
    "ExecuteTime": {
     "end_time": "2025-02-27T08:02:20.649047Z",
     "start_time": "2025-02-27T08:01:21.535806Z"
    }
   },
   "cell_type": "code",
   "source": [
    "oars50, recalls50, flags, recalls5, recalls10, recalls20, recalls30, recalls40, oars5, oars10, oars20, oars30, oars40,query_sizes1, query_sizes2, result_sizes1, result_sizes2  = (\n",
    "    performance_gen_leveled(\n",
    "        df, result_store, result_store_enc,\n",
    "        query_store_level1=leveled_stores[2],\n",
    "        result_store_level1=leveled_stores[0],\n",
    "        result_store_level1_enc=leveled_stores[1],\n",
    "        isEnc=True\n",
    "    )\n",
    ")"
   ],
   "id": "d5668736a606365a",
   "outputs": [
    {
     "name": "stdout",
     "output_type": "stream",
     "text": [
      "All Tasks done\n"
     ]
    }
   ],
   "execution_count": 21
  },
  {
   "metadata": {
    "ExecuteTime": {
     "end_time": "2025-02-27T08:02:20.804362Z",
     "start_time": "2025-02-27T08:02:20.790525Z"
    }
   },
   "cell_type": "code",
   "source": [
    "print(\"\\n\\n###Printing for result sizes 1###\")\n",
    "print(sum(result_sizes1), np.average(result_sizes1), np.sum(result_sizes1))\n",
    "indices = np.where(np.array(flags) == True)[0]\n",
    "print(sum(result_sizes1[i] for i in indices) / len(indices), sum(result_sizes1[i] for i in indices) / len(indices), len(indices))\n",
    "\n",
    "print(\"\\n\\n###Printing for result sizes 2###\")\n",
    "print(sum(result_sizes2), np.average(result_sizes2), np.sum(result_sizes2))\n",
    "indices = np.where(np.array(flags) == True)[0]\n",
    "print(sum(result_sizes2[i] for i in indices) / len(indices), sum(result_sizes2[i] for i in indices) / len(indices), len(indices))\n",
    "\n",
    "\n",
    "print(\"\\n\\n###Printing for query sizes 2###\")\n",
    "print(sum(query_sizes1), np.average(query_sizes1), np.sum(query_sizes1),max(query_sizes1),min(query_sizes1))\n",
    "indices = np.where(np.array(flags) == True)[0]\n",
    "print(sum(query_sizes1[i] for i in indices) / len(indices), sum(query_sizes1[i] for i in indices) / len(indices), len(indices))\n",
    "\n",
    "print(\"\\n\\n###Printing for query sizes 2###\")\n",
    "print(sum(query_sizes2), np.average(query_sizes2), np.sum(query_sizes2),max(query_sizes2),min(query_sizes2))\n",
    "indices = np.where(np.array(flags) == True)[0]\n",
    "print(sum(query_sizes2[i] for i in indices) / len(indices), sum(query_sizes2[i] for i in indices) / len(indices), len(indices))\n",
    "\n",
    "print(\"###Printing for 5###\")\n",
    "print(sum(recalls5), np.average(oars5), np.sum(flags))\n",
    "indices = np.where(np.array(flags) == True)[0]\n",
    "print(sum(recalls5[i] for i in indices) / len(indices), sum(oars5[i] for i in indices) / len(indices), len(indices))\n",
    "\n",
    "print(\"\\n\\n###Printing for 10###\")\n",
    "print(sum(recalls10), np.average(oars10), np.sum(flags))\n",
    "indices = np.where(np.array(flags) == True)[0]\n",
    "print(sum(recalls10[i] for i in indices) / len(indices), sum(oars10[i] for i in indices) / len(indices), len(indices))\n",
    "\n",
    "print(\"\\n\\n###Printing for 20###\")\n",
    "print(sum(recalls20), np.average(oars20), np.sum(flags))\n",
    "indices = np.where(np.array(flags) == True)[0]\n",
    "print(sum(recalls20[i] for i in indices) / len(indices), sum(oars20[i] for i in indices) / len(indices), len(indices))\n",
    "\n",
    "print(\"\\n\\n###Printing for 30###\")\n",
    "print(sum(recalls30), np.average(oars30), np.sum(flags))\n",
    "indices = np.where(np.array(flags) == True)[0]\n",
    "print(sum(recalls30[i] for i in indices) / len(indices), sum(oars30[i] for i in indices) / len(indices), len(indices))\n",
    "\n",
    "print(\"\\n\\n###Printing for 40###\")\n",
    "print(sum(recalls40), np.average(oars40), np.sum(flags))\n",
    "indices = np.where(np.array(flags) == True)[0]\n",
    "print(sum(recalls40[i] for i in indices) / len(indices), sum(oars40[i] for i in indices) / len(indices), len(indices))\n",
    "\n",
    "print(\"\\n\\n###Printing for 50###\")\n",
    "print(sum(recalls50), np.average(oars50), np.sum(flags))\n",
    "indices = np.where(np.array(flags) == True)[0]\n",
    "print(sum(recalls50[i] for i in indices) / len(indices), sum(oars50[i] for i in indices) / len(indices), len(indices))"
   ],
   "id": "5a9dab06a6b1d69",
   "outputs": [
    {
     "name": "stdout",
     "output_type": "stream",
     "text": [
      "\n",
      "\n",
      "###Printing for result sizes 1###\n",
      "14394400 14394.4 14394400\n",
      "14394.4 14394.4 1000\n",
      "\n",
      "\n",
      "###Printing for result sizes 2###\n",
      "6997376 6997.376 6997376\n",
      "6997.376 6997.376 1000\n",
      "\n",
      "\n",
      "###Printing for query sizes 2###\n",
      "120000 120.0 120000 120 120\n",
      "120.0 120.0 1000\n",
      "\n",
      "\n",
      "###Printing for query sizes 2###\n",
      "120000 120.0 120000 120 120\n",
      "120.0 120.0 1000\n",
      "###Printing for 5###\n",
      "5000.0 1.0 1000\n",
      "5.0 1.0 1000\n",
      "\n",
      "\n",
      "###Printing for 10###\n",
      "10000.0 1.0 1000\n",
      "10.0 1.0 1000\n",
      "\n",
      "\n",
      "###Printing for 20###\n",
      "19998.0 1.0000081543240391 1000\n",
      "19.998 1.0000081543240391 1000\n",
      "\n",
      "\n",
      "###Printing for 30###\n",
      "29994.0 1.0000295060714626 1000\n",
      "29.994 1.0000295060714626 1000\n",
      "\n",
      "\n",
      "###Printing for 40###\n",
      "39991.0 1.0000631805271571 1000\n",
      "39.991 1.000063180527157 1000\n",
      "\n",
      "\n",
      "###Printing for 50###\n",
      "49978.0 1.0000798827323385 1000\n",
      "49.978 1.0000798827323387 1000\n"
     ]
    }
   ],
   "execution_count": 22
  },
  {
   "metadata": {
    "ExecuteTime": {
     "end_time": "2025-02-27T08:02:21.375805Z",
     "start_time": "2025-02-27T08:02:20.882310Z"
    }
   },
   "cell_type": "code",
   "source": [
    "oars50, recalls50, flags, recalls5, recalls10, recalls20, recalls30, recalls40, oars5, oars10, oars20, oars30, oars40,query_sizes1, query_sizes2, result_sizes1, result_sizes2  = (\n",
    "    performance_gen_leveled(\n",
    "        df, result_store, result_store_enc,\n",
    "        query_store_level1=leveled_stores[2],\n",
    "        result_store_level1=leveled_stores[0],\n",
    "        result_store_level1_enc=leveled_stores[1],\n",
    "        isEnc=True, timeCalFlag=True\n",
    "    )\n",
    ")"
   ],
   "id": "ad1d3da8bdfa9033",
   "outputs": [
    {
     "name": "stdout",
     "output_type": "stream",
     "text": [
      "Time taken: 0.2610809803009033\n",
      "All Tasks done\n"
     ]
    }
   ],
   "execution_count": 23
  },
  {
   "metadata": {},
   "cell_type": "code",
   "outputs": [],
   "execution_count": null,
   "source": "",
   "id": "5a5c35bc38990136"
  }
 ],
 "metadata": {
  "kernelspec": {
   "display_name": "Python 3",
   "language": "python",
   "name": "python3"
  },
  "language_info": {
   "codemirror_mode": {
    "name": "ipython",
    "version": 2
   },
   "file_extension": ".py",
   "mimetype": "text/x-python",
   "name": "python",
   "nbconvert_exporter": "python",
   "pygments_lexer": "ipython2",
   "version": "2.7.6"
  }
 },
 "nbformat": 4,
 "nbformat_minor": 5
}
