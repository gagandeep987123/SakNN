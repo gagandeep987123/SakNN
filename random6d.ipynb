{
 "cells": [
  {
   "cell_type": "code",
   "id": "initial_id",
   "metadata": {
    "collapsed": true,
    "ExecuteTime": {
     "end_time": "2025-02-27T13:47:52.464597Z",
     "start_time": "2025-02-27T13:47:52.240658Z"
    }
   },
   "source": [
    "import stores\n",
    "import numpy as np\n",
    "from pympler import asizeof \n",
    "\n",
    "from performance_helper import performance_gen, performance_gen_leveled"
   ],
   "outputs": [],
   "execution_count": 1
  },
  {
   "metadata": {
    "ExecuteTime": {
     "end_time": "2025-02-27T13:56:56.291031Z",
     "start_time": "2025-02-27T13:48:03.831005Z"
    }
   },
   "cell_type": "code",
   "source": [
    "with open('tsne_transform/transformation_data/random_6d_scikit.npy', 'rb') as f:\n",
    "     embedding = np.load(f)\n",
    "     df = np.load(f)\n",
    "result_store, result_store_enc, query_store, leveled_stores = stores.stores_gen_parallel(org_data=df, tsne_red=embedding, div_qrs=400, gran_ris=2, leveled_gen=True, leveldParams=[100, 10])"
   ],
   "id": "789298cd17b76224",
   "outputs": [
    {
     "name": "stdout",
     "output_type": "stream",
     "text": [
      "All tasks completed\n",
      "Time to create stores:  250.04214191436768\n",
      "Tsne processing\n",
      "Tsne processing Done\n",
      "Tsne processing time:  266.57981276512146\n",
      "All tasks completed\n",
      "Time to create stores:  15.399597644805908\n",
      "Result Store level1 Done\n",
      "Time to create leveled stores:  282.00405859947205\n"
     ]
    }
   ],
   "execution_count": 2
  },
  {
   "metadata": {
    "ExecuteTime": {
     "end_time": "2025-02-27T13:56:56.969554Z",
     "start_time": "2025-02-27T13:56:56.336574Z"
    }
   },
   "cell_type": "code",
   "source": [
    "print(\"#Stats about result stores\")\n",
    "store_lens = []\n",
    "max_size = 1\n",
    "min_size = 1000000000\n",
    "for s in result_store:\n",
    "    store_lens.append(result_store[s].shape[0])\n",
    "    max_size = max(max_size, result_store[s].shape[0])\n",
    "    min_size = min(min_size, result_store[s].shape[0])\n",
    "# print(sum(store_lens))\n",
    "# print(len(store_lens))\n",
    "print(\"Avg result store entry size: \",sum(store_lens)/len(store_lens))\n",
    "print(\"Max: \", max_size)\n",
    "print(\"Min: \", min_size)\n",
    "print(\"Size of cloud storage\",asizeof.asizeof(result_store_enc))\n",
    "\n",
    "print(\"\\n\\n#Stats about leveled result stores\")\n",
    "store_lens = []\n",
    "max_size = 1\n",
    "min_size = 1000000000\n",
    "for s in leveled_stores[0]:\n",
    "    store_lens.append(leveled_stores[0][s].shape[0])\n",
    "    max_size = max(max_size, leveled_stores[0][s].shape[0])\n",
    "    min_size = min(min_size, leveled_stores[0][s].shape[0])\n",
    "# print(sum(store_lens))\n",
    "# print(len(store_lens))\n",
    "print(\"Avg result store entry size: \",sum(store_lens)/len(store_lens))\n",
    "print(\"Max: \", max_size)\n",
    "print(\"Min: \", min_size)\n",
    "print(\"Size of leveled cloud storage\",asizeof.asizeof(leveled_stores[0]))"
   ],
   "id": "64580c435a392934",
   "outputs": [
    {
     "name": "stdout",
     "output_type": "stream",
     "text": [
      "#Stats about result stores\n",
      "Avg result store entry size:  560.3156483168862\n",
      "Max:  1102\n",
      "Min:  3\n",
      "Size of cloud storage 3173095712\n",
      "\n",
      "\n",
      "#Stats about leveled result stores\n",
      "Avg result store entry size:  687.6079283887468\n",
      "Max:  1058\n",
      "Min:  76\n",
      "Size of leveled cloud storage 346368384\n"
     ]
    }
   ],
   "execution_count": 3
  },
  {
   "metadata": {
    "ExecuteTime": {
     "end_time": "2025-02-27T13:58:10.417649Z",
     "start_time": "2025-02-27T13:56:57.046360Z"
    }
   },
   "cell_type": "code",
   "source": [
    "# sANN execution\n",
    "oars50, recalls50, flags, recalls5, recalls10, recalls20, recalls30, recalls40, oars5, oars10, oars20, oars30, oars40, result_sizes, query_sizes = performance_gen(df, query_store, result_store, result_store_enc, isEnc=True)"
   ],
   "id": "95ec20a302d7aa15",
   "outputs": [
    {
     "name": "stdout",
     "output_type": "stream",
     "text": [
      "All Tasks done\n"
     ]
    }
   ],
   "execution_count": 4
  },
  {
   "metadata": {
    "ExecuteTime": {
     "end_time": "2025-02-27T13:58:10.510296Z",
     "start_time": "2025-02-27T13:58:10.501099Z"
    }
   },
   "cell_type": "code",
   "source": [
    "print(\"###Printing for result sizes###\")\n",
    "print(sum(result_sizes), np.average(result_sizes), np.sum(result_sizes))\n",
    "indices = np.where(np.array(flags) == True)[0]\n",
    "print(sum(result_sizes[i] for i in indices) / len(indices), sum(result_sizes[i] for i in indices) / len(indices) ,len(indices))\n",
    "\n",
    "print(\"\\n\\n###Printing for result sizes###\")\n",
    "print(sum(query_sizes), np.average(query_sizes), np.sum(query_sizes),max(query_sizes),min(query_sizes))\n",
    "indices = np.where(np.array(flags) == True)[0]\n",
    "print(sum(query_sizes[i] for i in indices) / len(indices), sum(query_sizes[i] for i in indices) / len(indices), max(result_sizes[i] for i in indices),min(result_sizes[i] for i in indices) ,len(indices))\n",
    "\n",
    "print(\"\\n\\n###Printing for 5###\")\n",
    "print(sum(recalls5), np.average(oars5), np.sum(flags))\n",
    "indices = np.where(np.array(flags) == True)[0]\n",
    "print(sum(recalls5[i] for i in indices) / len(indices), sum(oars5[i] for i in indices) / len(indices), len(indices))\n",
    "\n",
    "print(\"\\n\\n###Printing for 10###\")\n",
    "print(sum(recalls10), np.average(oars10), np.sum(flags))\n",
    "indices = np.where(np.array(flags) == True)[0]\n",
    "print(sum(recalls10[i] for i in indices) / len(indices), sum(oars10[i] for i in indices) / len(indices), len(indices))\n",
    "\n",
    "print(\"\\n\\n###Printing for 20###\")\n",
    "print(sum(recalls20), np.average(oars20), np.sum(flags))\n",
    "indices = np.where(np.array(flags) == True)[0]\n",
    "print(sum(recalls20[i] for i in indices) / len(indices), sum(oars20[i] for i in indices) / len(indices), len(indices))\n",
    "\n",
    "print(\"\\n\\n###Printing for 30###\")\n",
    "print(sum(recalls30), np.average(oars30), np.sum(flags))\n",
    "indices = np.where(np.array(flags) == True)[0]\n",
    "print(sum(recalls30[i] for i in indices) / len(indices), sum(oars30[i] for i in indices) / len(indices), len(indices))\n",
    "\n",
    "print(\"\\n\\n###Printing for 40###\")\n",
    "print(sum(recalls40), np.average(oars40), np.sum(flags))\n",
    "indices = np.where(np.array(flags) == True)[0]\n",
    "print(sum(recalls40[i] for i in indices) / len(indices), sum(oars40[i] for i in indices) / len(indices), len(indices))\n",
    "\n",
    "print(\"\\n\\n###Printing for 50###\")\n",
    "print(sum(recalls50), np.average(oars50), np.sum(flags))\n",
    "indices = np.where(np.array(flags) == True)[0]\n",
    "print(sum(recalls50[i] for i in indices) / len(indices), sum(oars50[i] for i in indices) / len(indices), len(indices))"
   ],
   "id": "78973ccdff26cc04",
   "outputs": [
    {
     "name": "stdout",
     "output_type": "stream",
     "text": [
      "###Printing for result sizes###\n",
      "28942176 28942.176 28942176\n",
      "28942.176 28942.176 1000\n",
      "\n",
      "\n",
      "###Printing for result sizes###\n",
      "119984 119.984 119984 120 104\n",
      "119.984 119.984 49320 4632 1000\n",
      "\n",
      "\n",
      "###Printing for 5###\n",
      "2622.0 1.2493082309470998 1000\n",
      "2.622 1.249308230947099 1000\n",
      "\n",
      "\n",
      "###Printing for 10###\n",
      "5000.0 1.2420234316965097 1000\n",
      "5.0 1.2420234316965095 1000\n",
      "\n",
      "\n",
      "###Printing for 20###\n",
      "9314.0 1.2436616616085874 1000\n",
      "9.314 1.2436616616085878 1000\n",
      "\n",
      "\n",
      "###Printing for 30###\n",
      "13243.0 1.2489984692894422 1000\n",
      "13.243 1.248998469289443 1000\n",
      "\n",
      "\n",
      "###Printing for 40###\n",
      "16916.0 1.2549855614152727 1000\n",
      "16.916 1.254985561415274 1000\n",
      "\n",
      "\n",
      "###Printing for 50###\n",
      "20400.0 1.2604022299157498 1000\n",
      "20.4 1.2604022299157507 1000\n"
     ]
    }
   ],
   "execution_count": 5
  },
  {
   "metadata": {
    "ExecuteTime": {
     "end_time": "2024-10-08T19:51:33.193175Z",
     "start_time": "2024-10-08T19:51:33.191047Z"
    }
   },
   "cell_type": "code",
   "source": "",
   "id": "94257f1780925f71",
   "outputs": [],
   "execution_count": null
  }
 ],
 "metadata": {
  "kernelspec": {
   "display_name": "Python 3",
   "language": "python",
   "name": "python3"
  },
  "language_info": {
   "codemirror_mode": {
    "name": "ipython",
    "version": 2
   },
   "file_extension": ".py",
   "mimetype": "text/x-python",
   "name": "python",
   "nbconvert_exporter": "python",
   "pygments_lexer": "ipython2",
   "version": "2.7.6"
  }
 },
 "nbformat": 4,
 "nbformat_minor": 5
}
