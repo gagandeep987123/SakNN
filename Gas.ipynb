{
 "cells": [
  {
   "cell_type": "code",
   "id": "initial_id",
   "metadata": {
    "collapsed": true,
    "ExecuteTime": {
     "end_time": "2025-02-27T14:57:01.751584Z",
     "start_time": "2025-02-27T14:57:01.548698Z"
    }
   },
   "source": [
    "import stores\n",
    "import numpy as np\n",
    "from pympler import asizeof \n",
    "\n",
    "from performance_helper import performance_gen, performance_gen_leveled"
   ],
   "outputs": [],
   "execution_count": 1
  },
  {
   "metadata": {
    "ExecuteTime": {
     "end_time": "2025-02-27T15:05:23.583883Z",
     "start_time": "2025-02-27T14:57:01.765122Z"
    }
   },
   "cell_type": "code",
   "source": [
    "with open('tsne_transform/real_Data/GASscikit.npy', 'rb') as f:\n",
    "     embedding = np.load(f)\n",
    "     df = np.load(f)\n",
    "result_store, result_store_enc, query_store, leveled_stores = stores.stores_gen_parallel(org_data=df, tsne_red=embedding, div_qrs=400, gran_ris=2, leveled_gen=True, leveldParams=[100, 10])\n"
   ],
   "id": "789298cd17b76224",
   "outputs": [
    {
     "name": "stdout",
     "output_type": "stream",
     "text": [
      "All tasks completed\n",
      "Time to create stores:  238.51375699043274\n",
      "Tsne processing\n",
      "Tsne processing Done\n",
      "Tsne processing time:  250.37367630004883\n",
      "All tasks completed\n",
      "Time to create stores:  12.49061107635498\n",
      "Result Store level1 Done\n",
      "Time to create leveled stores:  262.8851754665375\n"
     ]
    }
   ],
   "execution_count": 2
  },
  {
   "metadata": {
    "ExecuteTime": {
     "end_time": "2025-02-27T15:05:24.293956Z",
     "start_time": "2025-02-27T15:05:23.718614Z"
    }
   },
   "cell_type": "code",
   "source": [
    "print(\"#Stats about result stores\")\n",
    "store_lens = []\n",
    "max_size = 1\n",
    "min_size = 1000000000\n",
    "for s in result_store:\n",
    "    store_lens.append(result_store[s].shape[0])\n",
    "    max_size = max(max_size, result_store[s].shape[0])\n",
    "    min_size = min(min_size, result_store[s].shape[0])\n",
    "# print(sum(store_lens))\n",
    "# print(len(store_lens))\n",
    "print(\"Avg result store entry size: \",sum(store_lens)/len(store_lens))\n",
    "print(\"Max: \", max_size)\n",
    "print(\"Min: \", min_size)\n",
    "print(\"Size of cloud storage\",asizeof.asizeof(result_store_enc))\n",
    "\n",
    "print(\"\\n\\n#Stats about leveled result stores\")\n",
    "store_lens = []\n",
    "max_size = 1\n",
    "min_size = 1000000000\n",
    "for s in leveled_stores[0]:\n",
    "    store_lens.append(leveled_stores[0][s].shape[0])\n",
    "    max_size = max(max_size, leveled_stores[0][s].shape[0])\n",
    "    min_size = min(min_size, leveled_stores[0][s].shape[0])\n",
    "# print(sum(store_lens))\n",
    "# print(len(store_lens))\n",
    "print(\"Avg result store entry size: \",sum(store_lens)/len(store_lens))\n",
    "print(\"Max: \", max_size)\n",
    "print(\"Min: \", min_size)\n",
    "print(\"Size of leveled cloud storage\",asizeof.asizeof(leveled_stores[0]))"
   ],
   "id": "cce22f5f2b394cab",
   "outputs": [
    {
     "name": "stdout",
     "output_type": "stream",
     "text": [
      "#Stats about result stores\n",
      "Avg result store entry size:  607.0603427218579\n",
      "Max:  1289\n",
      "Min:  8\n",
      "Size of cloud storage 4176500592\n",
      "\n",
      "\n",
      "#Stats about leveled result stores\n",
      "Avg result store entry size:  604.3093110406458\n",
      "Max:  975\n",
      "Min:  83\n",
      "Size of leveled cloud storage 337431472\n"
     ]
    }
   ],
   "execution_count": 3
  },
  {
   "metadata": {
    "ExecuteTime": {
     "end_time": "2025-02-27T15:07:17.816771Z",
     "start_time": "2025-02-27T15:05:24.358821Z"
    }
   },
   "cell_type": "code",
   "source": [
    "# sANN execution\n",
    "oars50, recalls50, flags, recalls5, recalls10, recalls20, recalls30, recalls40, oars5, oars10, oars20, oars30, oars40, result_sizes, query_sizes = performance_gen(df, query_store, result_store, result_store_enc, isEnc=True)"
   ],
   "id": "a3f5ef36e732b48c",
   "outputs": [
    {
     "name": "stdout",
     "output_type": "stream",
     "text": [
      "All Tasks done\n"
     ]
    }
   ],
   "execution_count": 4
  },
  {
   "metadata": {
    "ExecuteTime": {
     "end_time": "2025-02-27T15:07:17.981009Z",
     "start_time": "2025-02-27T15:07:17.969291Z"
    }
   },
   "cell_type": "code",
   "source": [
    "print(\"###Printing for result sizes###\")\n",
    "print(sum(result_sizes), np.average(result_sizes), np.sum(result_sizes))\n",
    "indices = np.where(np.array(flags) == True)[0]\n",
    "print(sum(result_sizes[i] for i in indices) / len(indices), sum(result_sizes[i] for i in indices) / len(indices) ,len(indices))\n",
    "\n",
    "print(\"\\n\\n###Printing for result sizes###\")\n",
    "print(sum(query_sizes), np.average(query_sizes), np.sum(query_sizes),max(query_sizes),min(query_sizes))\n",
    "indices = np.where(np.array(flags) == True)[0]\n",
    "print(sum(query_sizes[i] for i in indices) / len(indices), sum(query_sizes[i] for i in indices) / len(indices), max(result_sizes[i] for i in indices),min(result_sizes[i] for i in indices) ,len(indices))\n",
    "\n",
    "print(\"\\n\\n###Printing for 5###\")\n",
    "print(sum(recalls5), np.average(oars5), np.sum(flags))\n",
    "indices = np.where(np.array(flags) == True)[0]\n",
    "print(sum(recalls5[i] for i in indices) / len(indices), sum(oars5[i] for i in indices) / len(indices), len(indices))\n",
    "\n",
    "print(\"\\n\\n###Printing for 10###\")\n",
    "print(sum(recalls10), np.average(oars10), np.sum(flags))\n",
    "indices = np.where(np.array(flags) == True)[0]\n",
    "print(sum(recalls10[i] for i in indices) / len(indices), sum(oars10[i] for i in indices) / len(indices), len(indices))\n",
    "\n",
    "print(\"\\n\\n###Printing for 20###\")\n",
    "print(sum(recalls20), np.average(oars20), np.sum(flags))\n",
    "indices = np.where(np.array(flags) == True)[0]\n",
    "print(sum(recalls20[i] for i in indices) / len(indices), sum(oars20[i] for i in indices) / len(indices), len(indices))\n",
    "\n",
    "print(\"\\n\\n###Printing for 30###\")\n",
    "print(sum(recalls30), np.average(oars30), np.sum(flags))\n",
    "indices = np.where(np.array(flags) == True)[0]\n",
    "print(sum(recalls30[i] for i in indices) / len(indices), sum(oars30[i] for i in indices) / len(indices), len(indices))\n",
    "\n",
    "print(\"\\n\\n###Printing for 40###\")\n",
    "print(sum(recalls40), np.average(oars40), np.sum(flags))\n",
    "indices = np.where(np.array(flags) == True)[0]\n",
    "print(sum(recalls40[i] for i in indices) / len(indices), sum(oars40[i] for i in indices) / len(indices), len(indices))\n",
    "\n",
    "print(\"\\n\\n###Printing for 50###\")\n",
    "print(sum(recalls50), np.average(oars50), np.sum(flags))\n",
    "indices = np.where(np.array(flags) == True)[0]\n",
    "print(sum(recalls50[i] for i in indices) / len(indices), sum(oars50[i] for i in indices) / len(indices), len(indices))"
   ],
   "id": "ca3330c3da6be4a5",
   "outputs": [
    {
     "name": "stdout",
     "output_type": "stream",
     "text": [
      "###Printing for result sizes###\n",
      "42404160 42404.16 42404160\n",
      "42404.16 42404.16 1000\n",
      "\n",
      "\n",
      "###Printing for result sizes###\n",
      "120000 120.0 120000 120 120\n",
      "120.0 120.0 76584 5976 1000\n",
      "\n",
      "\n",
      "###Printing for 5###\n",
      "3625.0 1.1852568742436789 1000\n",
      "3.625 1.1852568742436793 1000\n",
      "\n",
      "\n",
      "###Printing for 10###\n",
      "7126.0 1.1681234470524637 1000\n",
      "7.126 1.1681234470524642 1000\n",
      "\n",
      "\n",
      "###Printing for 20###\n",
      "13904.0 1.1577163312234264 1000\n",
      "13.904 1.1577163312234273 1000\n",
      "\n",
      "\n",
      "###Printing for 30###\n",
      "20320.0 1.154736136989717 1000\n",
      "20.32 1.1547361369897178 1000\n",
      "\n",
      "\n",
      "###Printing for 40###\n",
      "26451.0 1.1543687482258183 1000\n",
      "26.451 1.1543687482258185 1000\n",
      "\n",
      "\n",
      "###Printing for 50###\n",
      "32036.0 1.1552577352870979 1000\n",
      "32.036 1.1552577352870972 1000\n"
     ]
    }
   ],
   "execution_count": 5
  },
  {
   "metadata": {
    "ExecuteTime": {
     "end_time": "2025-02-27T15:07:21.823561Z",
     "start_time": "2025-02-27T15:07:17.996339Z"
    }
   },
   "cell_type": "code",
   "source": "oars50, recalls50, flags, recalls5, recalls10, recalls20, recalls30, recalls40, oars5, oars10, oars20, oars30, oars40, result_sizes, query_sizes = performance_gen(df, query_store, result_store, result_store_enc, isEnc=True, timeCalFlag=True)",
   "id": "1f8e3b1b98e8b246",
   "outputs": [
    {
     "name": "stdout",
     "output_type": "stream",
     "text": [
      "Time taken: 3.5065884590148926\n",
      "All Tasks done\n"
     ]
    }
   ],
   "execution_count": 6
  },
  {
   "metadata": {
    "ExecuteTime": {
     "end_time": "2025-02-27T15:09:15.765846Z",
     "start_time": "2025-02-27T15:07:21.903753Z"
    }
   },
   "cell_type": "code",
   "source": [
    "oars50, recalls50, flags, recalls5, recalls10, recalls20, recalls30, recalls40, oars5, oars10, oars20, oars30, oars40,query_sizes1, query_sizes2, result_sizes1, result_sizes2  = (\n",
    "    performance_gen_leveled(\n",
    "        df, result_store, result_store_enc,\n",
    "        query_store_level1=leveled_stores[2],\n",
    "        result_store_level1=leveled_stores[0],\n",
    "        result_store_level1_enc=leveled_stores[1],\n",
    "        isEnc=True\n",
    "    )\n",
    ")"
   ],
   "id": "814ee2ab17e70168",
   "outputs": [
    {
     "name": "stdout",
     "output_type": "stream",
     "text": [
      "All Tasks done\n"
     ]
    }
   ],
   "execution_count": 7
  },
  {
   "metadata": {
    "ExecuteTime": {
     "end_time": "2025-02-27T15:09:15.940025Z",
     "start_time": "2025-02-27T15:09:15.924447Z"
    }
   },
   "cell_type": "code",
   "source": [
    "print(\"\\n\\n###Printing for result sizes 1###\")\n",
    "print(sum(result_sizes1), np.average(result_sizes1), np.sum(result_sizes1))\n",
    "indices = np.where(np.array(flags) == True)[0]\n",
    "print(sum(result_sizes1[i] for i in indices) / len(indices), sum(result_sizes1[i] for i in indices) / len(indices), len(indices))\n",
    "\n",
    "print(\"\\n\\n###Printing for result sizes 2###\")\n",
    "print(sum(result_sizes2), np.average(result_sizes2), np.sum(result_sizes2))\n",
    "indices = np.where(np.array(flags) == True)[0]\n",
    "print(sum(result_sizes2[i] for i in indices) / len(indices), sum(result_sizes2[i] for i in indices) / len(indices), len(indices))\n",
    "\n",
    "\n",
    "print(\"\\n\\n###Printing for query sizes 2###\")\n",
    "print(sum(query_sizes1), np.average(query_sizes1), np.sum(query_sizes1),max(query_sizes1),min(query_sizes1))\n",
    "indices = np.where(np.array(flags) == True)[0]\n",
    "print(sum(query_sizes1[i] for i in indices) / len(indices), sum(query_sizes1[i] for i in indices) / len(indices), len(indices))\n",
    "\n",
    "print(\"\\n\\n###Printing for query sizes 2###\")\n",
    "print(sum(query_sizes2), np.average(query_sizes2), np.sum(query_sizes2),max(query_sizes2),min(query_sizes2))\n",
    "indices = np.where(np.array(flags) == True)[0]\n",
    "print(sum(query_sizes2[i] for i in indices) / len(indices), sum(query_sizes2[i] for i in indices) / len(indices), len(indices))\n",
    "\n",
    "print(\"###Printing for 5###\")\n",
    "print(sum(recalls5), np.average(oars5), np.sum(flags))\n",
    "indices = np.where(np.array(flags) == True)[0]\n",
    "print(sum(recalls5[i] for i in indices) / len(indices), sum(oars5[i] for i in indices) / len(indices), len(indices))\n",
    "\n",
    "print(\"\\n\\n###Printing for 10###\")\n",
    "print(sum(recalls10), np.average(oars10), np.sum(flags))\n",
    "indices = np.where(np.array(flags) == True)[0]\n",
    "print(sum(recalls10[i] for i in indices) / len(indices), sum(oars10[i] for i in indices) / len(indices), len(indices))\n",
    "\n",
    "print(\"\\n\\n###Printing for 20###\")\n",
    "print(sum(recalls20), np.average(oars20), np.sum(flags))\n",
    "indices = np.where(np.array(flags) == True)[0]\n",
    "print(sum(recalls20[i] for i in indices) / len(indices), sum(oars20[i] for i in indices) / len(indices), len(indices))\n",
    "\n",
    "print(\"\\n\\n###Printing for 30###\")\n",
    "print(sum(recalls30), np.average(oars30), np.sum(flags))\n",
    "indices = np.where(np.array(flags) == True)[0]\n",
    "print(sum(recalls30[i] for i in indices) / len(indices), sum(oars30[i] for i in indices) / len(indices), len(indices))\n",
    "\n",
    "print(\"\\n\\n###Printing for 40###\")\n",
    "print(sum(recalls40), np.average(oars40), np.sum(flags))\n",
    "indices = np.where(np.array(flags) == True)[0]\n",
    "print(sum(recalls40[i] for i in indices) / len(indices), sum(oars40[i] for i in indices) / len(indices), len(indices))\n",
    "\n",
    "print(\"\\n\\n###Printing for 50###\")\n",
    "print(sum(recalls50), np.average(oars50), np.sum(flags))\n",
    "indices = np.where(np.array(flags) == True)[0]\n",
    "print(sum(recalls50[i] for i in indices) / len(indices), sum(oars50[i] for i in indices) / len(indices), len(indices))"
   ],
   "id": "493e1d82f090e0a3",
   "outputs": [
    {
     "name": "stdout",
     "output_type": "stream",
     "text": [
      "\n",
      "\n",
      "###Printing for result sizes 1###\n",
      "51832880 51832.88 51832880\n",
      "51832.88 51832.88 1000\n",
      "\n",
      "\n",
      "###Printing for result sizes 2###\n",
      "42710432 42710.432 42710432\n",
      "42710.432 42710.432 1000\n",
      "\n",
      "\n",
      "###Printing for query sizes 2###\n",
      "120000 120.0 120000 120 120\n",
      "120.0 120.0 1000\n",
      "\n",
      "\n",
      "###Printing for query sizes 2###\n",
      "120000 120.0 120000 120 120\n",
      "120.0 120.0 1000\n",
      "###Printing for 5###\n",
      "3199.0 1.3124552262526104 1000\n",
      "3.199 1.3124552262526106 1000\n",
      "\n",
      "\n",
      "###Printing for 10###\n",
      "6232.0 1.2826011831601496 1000\n",
      "6.232 1.28260118316015 1000\n",
      "\n",
      "\n",
      "###Printing for 20###\n",
      "12033.0 1.2563418718356325 1000\n",
      "12.033 1.256341871835633 1000\n",
      "\n",
      "\n",
      "###Printing for 30###\n",
      "17658.0 1.245739796988283 1000\n",
      "17.658 1.2457397969882817 1000\n",
      "\n",
      "\n",
      "###Printing for 40###\n",
      "23068.0 1.2403571992618532 1000\n",
      "23.068 1.2403571992618512 1000\n",
      "\n",
      "\n",
      "###Printing for 50###\n",
      "28061.0 1.2378849371884886 1000\n",
      "28.061 1.2378849371884855 1000\n"
     ]
    }
   ],
   "execution_count": 8
  },
  {
   "metadata": {
    "ExecuteTime": {
     "end_time": "2025-02-27T15:09:16.897451Z",
     "start_time": "2025-02-27T15:09:16.057160Z"
    }
   },
   "cell_type": "code",
   "source": [
    "oars50, recalls50, flags, recalls5, recalls10, recalls20, recalls30, recalls40, oars5, oars10, oars20, oars30, oars40,query_sizes1, query_sizes2, result_sizes1, result_sizes2  = (\n",
    "    performance_gen_leveled(\n",
    "        df, result_store, result_store_enc,\n",
    "        query_store_level1=leveled_stores[2],\n",
    "        result_store_level1=leveled_stores[0],\n",
    "        result_store_level1_enc=leveled_stores[1],\n",
    "        isEnc=True, timeCalFlag=True\n",
    "    )\n",
    ")"
   ],
   "id": "4f78a24ea7b9f848",
   "outputs": [
    {
     "name": "stdout",
     "output_type": "stream",
     "text": [
      "Time taken: 0.5468802452087402\n",
      "All Tasks done\n"
     ]
    }
   ],
   "execution_count": 9
  },
  {
   "metadata": {},
   "cell_type": "code",
   "outputs": [],
   "execution_count": null,
   "source": "",
   "id": "94257f1780925f71"
  }
 ],
 "metadata": {
  "kernelspec": {
   "display_name": "Python 3",
   "language": "python",
   "name": "python3"
  },
  "language_info": {
   "codemirror_mode": {
    "name": "ipython",
    "version": 2
   },
   "file_extension": ".py",
   "mimetype": "text/x-python",
   "name": "python",
   "nbconvert_exporter": "python",
   "pygments_lexer": "ipython2",
   "version": "2.7.6"
  }
 },
 "nbformat": 4,
 "nbformat_minor": 5
}
