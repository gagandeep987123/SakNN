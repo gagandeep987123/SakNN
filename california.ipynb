{
 "cells": [
  {
   "cell_type": "code",
   "id": "initial_id",
   "metadata": {
    "collapsed": true,
    "ExecuteTime": {
     "end_time": "2025-02-27T15:10:20.548982Z",
     "start_time": "2025-02-27T15:10:20.395787Z"
    }
   },
   "source": [
    "import stores\n",
    "import numpy as np\n",
    "from pympler import asizeof \n",
    "\n",
    "from performance_helper import performance_gen, performance_gen_leveled"
   ],
   "outputs": [],
   "execution_count": 1
  },
  {
   "metadata": {
    "ExecuteTime": {
     "end_time": "2025-02-27T15:16:13.269687Z",
     "start_time": "2025-02-27T15:10:20.876915Z"
    }
   },
   "cell_type": "code",
   "source": [
    "with open('tsne_transform/real_Data/california_1Mscikit.npy', 'rb') as f:\n",
    "     embedding = np.load(f)\n",
    "     df = np.load(f)\n",
    "result_store, result_store_enc, query_store, leveled_stores = stores.stores_gen_parallel(org_data=df, tsne_red=embedding, div_qrs=400, gran_ris=2, leveled_gen=True, leveldParams=[100, 10])"
   ],
   "id": "789298cd17b76224",
   "outputs": [
    {
     "name": "stdout",
     "output_type": "stream",
     "text": [
      "All tasks completed\n",
      "Time to create stores:  130.67977857589722\n",
      "Tsne processing\n",
      "Tsne processing Done\n",
      "Tsne processing time:  210.98328256607056\n",
      "All tasks completed\n",
      "Time to create stores:  10.544663190841675\n",
      "Result Store level1 Done\n",
      "Time to create leveled stores:  221.54545998573303\n"
     ]
    }
   ],
   "execution_count": 2
  },
  {
   "metadata": {
    "ExecuteTime": {
     "end_time": "2025-02-27T15:16:13.891462Z",
     "start_time": "2025-02-27T15:16:13.358083Z"
    }
   },
   "cell_type": "code",
   "source": [
    "print(\"#Stats about result stores\")\n",
    "store_lens = []\n",
    "max_size = 1\n",
    "min_size = 1000000000\n",
    "for s in result_store:\n",
    "    store_lens.append(result_store[s].shape[0])\n",
    "    max_size = max(max_size, result_store[s].shape[0])\n",
    "    min_size = min(min_size, result_store[s].shape[0])\n",
    "# print(sum(store_lens))\n",
    "# print(len(store_lens))\n",
    "print(\"Avg result store entry size: \",sum(store_lens)/len(store_lens))\n",
    "print(\"Max: \", max_size)\n",
    "print(\"Min: \", min_size)\n",
    "print(\"Size of cloud storage\",asizeof.asizeof(result_store_enc))\n",
    "\n",
    "print(\"\\n\\n#Stats about leveled result stores\")\n",
    "store_lens = []\n",
    "max_size = 1\n",
    "min_size = 1000000000\n",
    "for s in leveled_stores[0]:\n",
    "    store_lens.append(leveled_stores[0][s].shape[0])\n",
    "    max_size = max(max_size, leveled_stores[0][s].shape[0])\n",
    "    min_size = min(min_size, leveled_stores[0][s].shape[0])\n",
    "# print(sum(store_lens))\n",
    "# print(len(store_lens))\n",
    "print(\"Avg result store entry size: \",sum(store_lens)/len(store_lens))\n",
    "print(\"Max: \", max_size)\n",
    "print(\"Min: \", min_size)\n",
    "print(\"Size of leveled cloud storage\",asizeof.asizeof(leveled_stores[0]))"
   ],
   "id": "cce22f5f2b394cab",
   "outputs": [
    {
     "name": "stdout",
     "output_type": "stream",
     "text": [
      "#Stats about result stores\n",
      "Avg result store entry size:  136.66960017912598\n",
      "Max:  229\n",
      "Min:  17\n",
      "Size of cloud storage 264378624\n",
      "\n",
      "\n",
      "#Stats about leveled result stores\n",
      "Avg result store entry size:  418.25333808082604\n",
      "Max:  543\n",
      "Min:  123\n",
      "Size of leveled cloud storage 76866552\n"
     ]
    }
   ],
   "execution_count": 3
  },
  {
   "metadata": {
    "ExecuteTime": {
     "end_time": "2025-02-27T15:16:31.900472Z",
     "start_time": "2025-02-27T15:16:13.897563Z"
    }
   },
   "cell_type": "code",
   "source": [
    "# sANN execution\n",
    "oars50, recalls50, flags, recalls5, recalls10, recalls20, recalls30, recalls40, oars5, oars10, oars20, oars30, oars40, result_sizes, query_sizes = performance_gen(df, query_store, result_store, result_store_enc, isEnc=True)"
   ],
   "id": "a3f5ef36e732b48c",
   "outputs": [
    {
     "name": "stdout",
     "output_type": "stream",
     "text": [
      "All Tasks done\n"
     ]
    }
   ],
   "execution_count": 4
  },
  {
   "metadata": {
    "ExecuteTime": {
     "end_time": "2025-02-27T15:16:31.988106Z",
     "start_time": "2025-02-27T15:16:31.976683Z"
    }
   },
   "cell_type": "code",
   "source": [
    "print(\"###Printing for result sizes###\")\n",
    "print(sum(result_sizes), np.average(result_sizes), np.sum(result_sizes))\n",
    "indices = np.where(np.array(flags) == True)[0]\n",
    "print(sum(result_sizes[i] for i in indices) / len(indices), sum(result_sizes[i] for i in indices) / len(indices) ,len(indices))\n",
    "\n",
    "print(\"\\n\\n###Printing for result sizes###\")\n",
    "print(sum(query_sizes), np.average(query_sizes), np.sum(query_sizes),max(query_sizes),min(query_sizes))\n",
    "indices = np.where(np.array(flags) == True)[0]\n",
    "print(sum(query_sizes[i] for i in indices) / len(indices), sum(query_sizes[i] for i in indices) / len(indices), max(result_sizes[i] for i in indices),min(result_sizes[i] for i in indices) ,len(indices))\n",
    "\n",
    "print(\"\\n\\n###Printing for 5###\")\n",
    "print(sum(recalls5), np.average(oars5), np.sum(flags))\n",
    "indices = np.where(np.array(flags) == True)[0]\n",
    "print(sum(recalls5[i] for i in indices) / len(indices), sum(oars5[i] for i in indices) / len(indices), len(indices))\n",
    "\n",
    "print(\"\\n\\n###Printing for 10###\")\n",
    "print(sum(recalls10), np.average(oars10), np.sum(flags))\n",
    "indices = np.where(np.array(flags) == True)[0]\n",
    "print(sum(recalls10[i] for i in indices) / len(indices), sum(oars10[i] for i in indices) / len(indices), len(indices))\n",
    "\n",
    "print(\"\\n\\n###Printing for 20###\")\n",
    "print(sum(recalls20), np.average(oars20), np.sum(flags))\n",
    "indices = np.where(np.array(flags) == True)[0]\n",
    "print(sum(recalls20[i] for i in indices) / len(indices), sum(oars20[i] for i in indices) / len(indices), len(indices))\n",
    "\n",
    "print(\"\\n\\n###Printing for 30###\")\n",
    "print(sum(recalls30), np.average(oars30), np.sum(flags))\n",
    "indices = np.where(np.array(flags) == True)[0]\n",
    "print(sum(recalls30[i] for i in indices) / len(indices), sum(oars30[i] for i in indices) / len(indices), len(indices))\n",
    "\n",
    "print(\"\\n\\n###Printing for 40###\")\n",
    "print(sum(recalls40), np.average(oars40), np.sum(flags))\n",
    "indices = np.where(np.array(flags) == True)[0]\n",
    "print(sum(recalls40[i] for i in indices) / len(indices), sum(oars40[i] for i in indices) / len(indices), len(indices))\n",
    "\n",
    "print(\"\\n\\n###Printing for 50###\")\n",
    "print(sum(recalls50), np.average(oars50), np.sum(flags))\n",
    "indices = np.where(np.array(flags) == True)[0]\n",
    "print(sum(recalls50[i] for i in indices) / len(indices), sum(oars50[i] for i in indices) / len(indices), len(indices))"
   ],
   "id": "ca3330c3da6be4a5",
   "outputs": [
    {
     "name": "stdout",
     "output_type": "stream",
     "text": [
      "###Printing for result sizes###\n",
      "2479520 2479.52 2479520\n",
      "2479.52 2479.52 1000\n",
      "\n",
      "\n",
      "###Printing for result sizes###\n",
      "120000 120.0 120000 120 120\n",
      "120.0 120.0 3608 1048 1000\n",
      "\n",
      "\n",
      "###Printing for 5###\n",
      "4997.0 1.0003524587265729 1000\n",
      "4.997 1.0003524587265729 1000\n",
      "\n",
      "\n",
      "###Printing for 10###\n",
      "9986.0 1.000562913998163 1000\n",
      "9.986 1.000562913998163 1000\n",
      "\n",
      "\n",
      "###Printing for 20###\n",
      "19908.0 1.0013518913592934 1000\n",
      "19.908 1.0013518913592934 1000\n",
      "\n",
      "\n",
      "###Printing for 30###\n",
      "29770.0 1.0020814516512493 1000\n",
      "29.77 1.002081451651249 1000\n",
      "\n",
      "\n",
      "###Printing for 40###\n",
      "39498.0 1.0030817671266996 1000\n",
      "39.498 1.0030817671267003 1000\n",
      "\n",
      "\n",
      "###Printing for 50###\n",
      "49047.0 1.0043035063721621 1000\n",
      "49.047 1.004303506372162 1000\n"
     ]
    }
   ],
   "execution_count": 5
  },
  {
   "metadata": {
    "ExecuteTime": {
     "end_time": "2025-02-27T15:16:34.334664Z",
     "start_time": "2025-02-27T15:16:32.057699Z"
    }
   },
   "cell_type": "code",
   "source": "oars50, recalls50, flags, recalls5, recalls10, recalls20, recalls30, recalls40, oars5, oars10, oars20, oars30, oars40, result_sizes, query_sizes = performance_gen(df, query_store, result_store, result_store_enc, isEnc=True, timeCalFlag=True)",
   "id": "1f8e3b1b98e8b246",
   "outputs": [
    {
     "name": "stdout",
     "output_type": "stream",
     "text": [
      "Time taken: 2.1962876319885254\n",
      "All Tasks done\n"
     ]
    }
   ],
   "execution_count": 6
  },
  {
   "metadata": {
    "ExecuteTime": {
     "end_time": "2025-02-27T15:16:52.214540Z",
     "start_time": "2025-02-27T15:16:34.407836Z"
    }
   },
   "cell_type": "code",
   "source": [
    "oars50, recalls50, flags, recalls5, recalls10, recalls20, recalls30, recalls40, oars5, oars10, oars20, oars30, oars40,query_sizes1, query_sizes2, result_sizes1, result_sizes2  = (\n",
    "    performance_gen_leveled(\n",
    "        df, result_store, result_store_enc,\n",
    "        query_store_level1=leveled_stores[2],\n",
    "        result_store_level1=leveled_stores[0],\n",
    "        result_store_level1_enc=leveled_stores[1],\n",
    "        isEnc=True\n",
    "    )\n",
    ")"
   ],
   "id": "814ee2ab17e70168",
   "outputs": [
    {
     "name": "stdout",
     "output_type": "stream",
     "text": [
      "All Tasks done\n"
     ]
    }
   ],
   "execution_count": 7
  },
  {
   "metadata": {
    "ExecuteTime": {
     "end_time": "2025-02-27T15:16:52.377983Z",
     "start_time": "2025-02-27T15:16:52.365957Z"
    }
   },
   "cell_type": "code",
   "source": [
    "print(\"\\n\\n###Printing for result sizes 1###\")\n",
    "print(sum(result_sizes1), np.average(result_sizes1), np.sum(result_sizes1))\n",
    "indices = np.where(np.array(flags) == True)[0]\n",
    "print(sum(result_sizes1[i] for i in indices) / len(indices), sum(result_sizes1[i] for i in indices) / len(indices), len(indices))\n",
    "\n",
    "print(\"\\n\\n###Printing for result sizes 2###\")\n",
    "print(sum(result_sizes2), np.average(result_sizes2), np.sum(result_sizes2))\n",
    "indices = np.where(np.array(flags) == True)[0]\n",
    "print(sum(result_sizes2[i] for i in indices) / len(indices), sum(result_sizes2[i] for i in indices) / len(indices), len(indices))\n",
    "\n",
    "\n",
    "print(\"\\n\\n###Printing for query sizes 2###\")\n",
    "print(sum(query_sizes1), np.average(query_sizes1), np.sum(query_sizes1),max(query_sizes1),min(query_sizes1))\n",
    "indices = np.where(np.array(flags) == True)[0]\n",
    "print(sum(query_sizes1[i] for i in indices) / len(indices), sum(query_sizes1[i] for i in indices) / len(indices), len(indices))\n",
    "\n",
    "print(\"\\n\\n###Printing for query sizes 2###\")\n",
    "print(sum(query_sizes2), np.average(query_sizes2), np.sum(query_sizes2),max(query_sizes2),min(query_sizes2))\n",
    "indices = np.where(np.array(flags) == True)[0]\n",
    "print(sum(query_sizes2[i] for i in indices) / len(indices), sum(query_sizes2[i] for i in indices) / len(indices), len(indices))\n",
    "\n",
    "print(\"###Printing for 5###\")\n",
    "print(sum(recalls5), np.average(oars5), np.sum(flags))\n",
    "indices = np.where(np.array(flags) == True)[0]\n",
    "print(sum(recalls5[i] for i in indices) / len(indices), sum(oars5[i] for i in indices) / len(indices), len(indices))\n",
    "\n",
    "print(\"\\n\\n###Printing for 10###\")\n",
    "print(sum(recalls10), np.average(oars10), np.sum(flags))\n",
    "indices = np.where(np.array(flags) == True)[0]\n",
    "print(sum(recalls10[i] for i in indices) / len(indices), sum(oars10[i] for i in indices) / len(indices), len(indices))\n",
    "\n",
    "print(\"\\n\\n###Printing for 20###\")\n",
    "print(sum(recalls20), np.average(oars20), np.sum(flags))\n",
    "indices = np.where(np.array(flags) == True)[0]\n",
    "print(sum(recalls20[i] for i in indices) / len(indices), sum(oars20[i] for i in indices) / len(indices), len(indices))\n",
    "\n",
    "print(\"\\n\\n###Printing for 30###\")\n",
    "print(sum(recalls30), np.average(oars30), np.sum(flags))\n",
    "indices = np.where(np.array(flags) == True)[0]\n",
    "print(sum(recalls30[i] for i in indices) / len(indices), sum(oars30[i] for i in indices) / len(indices), len(indices))\n",
    "\n",
    "print(\"\\n\\n###Printing for 40###\")\n",
    "print(sum(recalls40), np.average(oars40), np.sum(flags))\n",
    "indices = np.where(np.array(flags) == True)[0]\n",
    "print(sum(recalls40[i] for i in indices) / len(indices), sum(oars40[i] for i in indices) / len(indices), len(indices))\n",
    "\n",
    "print(\"\\n\\n###Printing for 50###\")\n",
    "print(sum(recalls50), np.average(oars50), np.sum(flags))\n",
    "indices = np.where(np.array(flags) == True)[0]\n",
    "print(sum(recalls50[i] for i in indices) / len(indices), sum(oars50[i] for i in indices) / len(indices), len(indices))"
   ],
   "id": "493e1d82f090e0a3",
   "outputs": [
    {
     "name": "stdout",
     "output_type": "stream",
     "text": [
      "\n",
      "\n",
      "###Printing for result sizes 1###\n",
      "13865216 13865.216 13865216\n",
      "13869.931863727455 13869.931863727455 998\n",
      "\n",
      "\n",
      "###Printing for result sizes 2###\n",
      "2473280 2473.28 2473280\n",
      "2476.633266533066 2476.633266533066 998\n",
      "\n",
      "\n",
      "###Printing for query sizes 2###\n",
      "120000 120.0 120000 120 120\n",
      "120.0 120.0 998\n",
      "\n",
      "\n",
      "###Printing for query sizes 2###\n",
      "120000 120.0 120000 120 120\n",
      "120.0 120.0 998\n",
      "###Printing for 5###\n",
      "4986.0 1.0030120130896274 998\n",
      "4.985971943887775 1.0030180491880034 998\n",
      "\n",
      "\n",
      "###Printing for 10###\n",
      "9966.0 1.0028062841347911 998\n",
      "9.965931863727455 1.0028119079506925 998\n",
      "\n",
      "\n",
      "###Printing for 20###\n",
      "19895.0 1.0030170445287403 998\n",
      "19.89879759519038 1.0029410469748516 998\n",
      "\n",
      "\n",
      "###Printing for 30###\n",
      "29737.0 1.0037402046963408 998\n",
      "29.750501002004007 1.0035697268157189 998\n",
      "\n",
      "\n",
      "###Printing for 40###\n",
      "39441.0 1.0047932914021465 998\n",
      "39.4689378757515 1.0045902018878359 998\n",
      "\n",
      "\n",
      "###Printing for 50###\n",
      "48916.0 1.0061858146480058 998\n",
      "48.954909819639276 1.0059777983325378 998\n"
     ]
    }
   ],
   "execution_count": 8
  },
  {
   "metadata": {
    "ExecuteTime": {
     "end_time": "2025-02-27T15:16:52.765938Z",
     "start_time": "2025-02-27T15:16:52.430886Z"
    }
   },
   "cell_type": "code",
   "source": [
    "oars50, recalls50, flags, recalls5, recalls10, recalls20, recalls30, recalls40, oars5, oars10, oars20, oars30, oars40,query_sizes1, query_sizes2, result_sizes1, result_sizes2  = (\n",
    "    performance_gen_leveled(\n",
    "        df, result_store, result_store_enc,\n",
    "        query_store_level1=leveled_stores[2],\n",
    "        result_store_level1=leveled_stores[0],\n",
    "        result_store_level1_enc=leveled_stores[1],\n",
    "        isEnc=True, timeCalFlag=True\n",
    "    )\n",
    ")"
   ],
   "id": "4f78a24ea7b9f848",
   "outputs": [
    {
     "name": "stdout",
     "output_type": "stream",
     "text": [
      "Time taken: 0.2503061294555664\n",
      "All Tasks done\n"
     ]
    }
   ],
   "execution_count": 9
  },
  {
   "metadata": {},
   "cell_type": "code",
   "outputs": [],
   "execution_count": null,
   "source": "",
   "id": "94257f1780925f71"
  }
 ],
 "metadata": {
  "kernelspec": {
   "display_name": "Python 3",
   "language": "python",
   "name": "python3"
  },
  "language_info": {
   "codemirror_mode": {
    "name": "ipython",
    "version": 2
   },
   "file_extension": ".py",
   "mimetype": "text/x-python",
   "name": "python",
   "nbconvert_exporter": "python",
   "pygments_lexer": "ipython2",
   "version": "2.7.6"
  }
 },
 "nbformat": 4,
 "nbformat_minor": 5
}
